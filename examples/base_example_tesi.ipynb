{
 "cells": [
  {
   "cell_type": "code",
   "execution_count": 2,
   "metadata": {
    "tags": [
     "block:imports"
    ]
   },
   "outputs": [],
   "source": [
    "import os\n",
    "import numpy as np\n",
    "from pandas import core as cc\n",
    "from pathlib import Path\n",
    "import pd\n",
    "import torch\n",
    "path = './'"
   ]
  },
  {
   "cell_type": "code",
   "execution_count": 2,
   "metadata": {
    "tags": [
     "block:first"
    ]
   },
   "outputs": [],
   "source": [
    "temperature_tr = pd.read_pickle(f'{_input_data_folder}temps_2011_2016.pkl')\n",
    "nome_varieta.loc[298]\n",
    "chardonnay = varieta_tr[varieta_tr == 298].fillna(0).sum()\n",
    "temperature_tr = temperature_tr[chardonnay_ix]\n",
    "rilevazioni_tr = rilevazioni_tr[rilevazioni_tr.index >= pd.Timestamp(2015, 1, 1)]\n",
    "temps_data, bbch_data, bbch_data_b = create_dataset(temperature=temperature_tr, rilevazioni=rilevazioni_tr)\n",
    "bbch_b_tr= torch.from_numpy(bbch_data_b).type(torch.FloatTensor).to(device)\n",
    "\n",
    "\n",
    "# \n",
    "# @resource.register('.*\\.npy')  # match anything ending in .npy\n",
    "# def resource_numpy(uri, **kwargs):\n",
    "#     return np.load(uri)"
   ]
  },
  {
   "cell_type": "code",
   "execution_count": 3,
   "metadata": {
    "tags": [
     "block:sum"
    ]
   },
   "outputs": [
    {
     "name": "stdout",
     "output_type": "stream",
     "text": [
      "ciao\n"
     ]
    }
   ],
   "source": [
    "import os\n",
    "from tqdm import tqdm\n",
    "\n",
    "with tqdm(total=100) as pbar:\n",
    "    print('ciao')\n",
    "\n",
    "\n",
    "a = np.random.random((10, 10))\n",
    "b = a.sum()\n",
    "\n",
    "def test_function():\n",
    "    print(\"ciao\")\n",
    "    \n",
    "test_function()\n",
    "\n",
    "class tests_class:\n",
    "    pass\n",
    "\n",
    "\n",
    "my_var = 5\n",
    "j =0\n",
    "for i in range(rilevazioni.shape[1]):\n",
    "    for k, data in enumerate(date):\n",
    "        j += 1"
   ]
  },
  {
   "cell_type": "code",
   "execution_count": 4,
   "metadata": {
    "tags": [
     "block:cumsum",
     "prev:sum"
    ]
   },
   "outputs": [
    {
     "name": "stdout",
     "output_type": "stream",
     "text": [
      "53.81846358730516\n"
     ]
    }
   ],
   "source": [
    "print(b)"
   ]
  },
  {
   "cell_type": "code",
   "execution_count": 5,
   "metadata": {},
   "outputs": [
    {
     "name": "stdout",
     "output_type": "stream",
     "text": [
      "The data from previous step is 53.81846358730516\n"
     ]
    }
   ],
   "source": [
    "print(f\"The data from previous step is {b}\")"
   ]
  },
  {
   "cell_type": "code",
   "execution_count": 6,
   "metadata": {
    "tags": [
     "block:imports"
    ]
   },
   "outputs": [],
   "source": [
    "import os"
   ]
  },
  {
   "cell_type": "code",
   "execution_count": 9,
   "metadata": {
    "tags": [
     "prev:sum:cumsum",
     "block:os"
    ]
   },
   "outputs": [
    {
     "name": "stdout",
     "output_type": "stream",
     "text": [
      "['.DS_Store', 'base_example_pytorch.ipynb', 'base_example_numpy.ipynb', 'odo_tests.ipynb', '.ipynb_checkpoints', 'modello_enophit_old_by_mcr.ipynb', 'modello_enophit_new.ipynb']\n"
     ]
    }
   ],
   "source": [
    "print(os.listdir(path))"
   ]
  },
  {
   "cell_type": "code",
   "execution_count": null,
   "metadata": {},
   "outputs": [],
   "source": []
  }
 ],
 "metadata": {
  "kernelspec": {
   "display_name": "Python 3",
   "language": "python",
   "name": "python3"
  },
  "language_info": {
   "codemirror_mode": {
    "name": "ipython",
    "version": 3
   },
   "file_extension": ".py",
   "mimetype": "text/x-python",
   "name": "python",
   "nbconvert_exporter": "python",
   "pygments_lexer": "ipython3",
   "version": "3.6.5"
  }
 },
 "nbformat": 4,
 "nbformat_minor": 2
}
