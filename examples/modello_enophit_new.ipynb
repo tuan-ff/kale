{
 "cells": [
  {
   "cell_type": "markdown",
   "metadata": {},
   "source": [
    "## Notes\n",
    "\n",
    "In questo notebook vengono implementati i modelli di classificazione del BBCH (creati da Marco Cristoforetti nel notebook `modello_enophit_per_varieta.ipynb`) aggiungendo pulizia del codice, sotring e plotting delle metriche e dei modelli rispetto al codice originale. \n",
    "\n",
    "- Ogni sample di training è un array di 366 valori di temperatura, inizializzato a -999\n",
    "- Viene incluso il valore di bbch di quel giorno, infatti l'array di temperature è rimepito fino a quel giorno con le temperature dell'anno, il rimanenete rimane a -999.\n",
    "- Questo viene fatto perché l'imput del modello è fisso, non può essere variabile"
   ]
  },
  {
   "cell_type": "code",
   "execution_count": 1,
   "metadata": {
    "tags": [
     "block:imports"
    ]
   },
   "outputs": [
    {
     "data": {
      "text/html": [
       "\n",
       "    <div class=\"bk-root\">\n",
       "        <a href=\"https://bokeh.pydata.org\" target=\"_blank\" class=\"bk-logo bk-logo-small bk-logo-notebook\"></a>\n",
       "        <span id=\"1001\">Loading BokehJS ...</span>\n",
       "    </div>"
      ]
     },
     "metadata": {},
     "output_type": "display_data"
    },
    {
     "data": {
      "application/javascript": [
       "\n",
       "(function(root) {\n",
       "  function now() {\n",
       "    return new Date();\n",
       "  }\n",
       "\n",
       "  var force = true;\n",
       "\n",
       "  if (typeof (root._bokeh_onload_callbacks) === \"undefined\" || force === true) {\n",
       "    root._bokeh_onload_callbacks = [];\n",
       "    root._bokeh_is_loading = undefined;\n",
       "  }\n",
       "\n",
       "  var JS_MIME_TYPE = 'application/javascript';\n",
       "  var HTML_MIME_TYPE = 'text/html';\n",
       "  var EXEC_MIME_TYPE = 'application/vnd.bokehjs_exec.v0+json';\n",
       "  var CLASS_NAME = 'output_bokeh rendered_html';\n",
       "\n",
       "  /**\n",
       "   * Render data to the DOM node\n",
       "   */\n",
       "  function render(props, node) {\n",
       "    var script = document.createElement(\"script\");\n",
       "    node.appendChild(script);\n",
       "  }\n",
       "\n",
       "  /**\n",
       "   * Handle when an output is cleared or removed\n",
       "   */\n",
       "  function handleClearOutput(event, handle) {\n",
       "    var cell = handle.cell;\n",
       "\n",
       "    var id = cell.output_area._bokeh_element_id;\n",
       "    var server_id = cell.output_area._bokeh_server_id;\n",
       "    // Clean up Bokeh references\n",
       "    if (id != null && id in Bokeh.index) {\n",
       "      Bokeh.index[id].model.document.clear();\n",
       "      delete Bokeh.index[id];\n",
       "    }\n",
       "\n",
       "    if (server_id !== undefined) {\n",
       "      // Clean up Bokeh references\n",
       "      var cmd = \"from bokeh.io.state import curstate; print(curstate().uuid_to_server['\" + server_id + \"'].get_sessions()[0].document.roots[0]._id)\";\n",
       "      cell.notebook.kernel.execute(cmd, {\n",
       "        iopub: {\n",
       "          output: function(msg) {\n",
       "            var id = msg.content.text.trim();\n",
       "            if (id in Bokeh.index) {\n",
       "              Bokeh.index[id].model.document.clear();\n",
       "              delete Bokeh.index[id];\n",
       "            }\n",
       "          }\n",
       "        }\n",
       "      });\n",
       "      // Destroy server and session\n",
       "      var cmd = \"import bokeh.io.notebook as ion; ion.destroy_server('\" + server_id + \"')\";\n",
       "      cell.notebook.kernel.execute(cmd);\n",
       "    }\n",
       "  }\n",
       "\n",
       "  /**\n",
       "   * Handle when a new output is added\n",
       "   */\n",
       "  function handleAddOutput(event, handle) {\n",
       "    var output_area = handle.output_area;\n",
       "    var output = handle.output;\n",
       "\n",
       "    // limit handleAddOutput to display_data with EXEC_MIME_TYPE content only\n",
       "    if ((output.output_type != \"display_data\") || (!output.data.hasOwnProperty(EXEC_MIME_TYPE))) {\n",
       "      return\n",
       "    }\n",
       "\n",
       "    var toinsert = output_area.element.find(\".\" + CLASS_NAME.split(' ')[0]);\n",
       "\n",
       "    if (output.metadata[EXEC_MIME_TYPE][\"id\"] !== undefined) {\n",
       "      toinsert[toinsert.length - 1].firstChild.textContent = output.data[JS_MIME_TYPE];\n",
       "      // store reference to embed id on output_area\n",
       "      output_area._bokeh_element_id = output.metadata[EXEC_MIME_TYPE][\"id\"];\n",
       "    }\n",
       "    if (output.metadata[EXEC_MIME_TYPE][\"server_id\"] !== undefined) {\n",
       "      var bk_div = document.createElement(\"div\");\n",
       "      bk_div.innerHTML = output.data[HTML_MIME_TYPE];\n",
       "      var script_attrs = bk_div.children[0].attributes;\n",
       "      for (var i = 0; i < script_attrs.length; i++) {\n",
       "        toinsert[toinsert.length - 1].firstChild.setAttribute(script_attrs[i].name, script_attrs[i].value);\n",
       "      }\n",
       "      // store reference to server id on output_area\n",
       "      output_area._bokeh_server_id = output.metadata[EXEC_MIME_TYPE][\"server_id\"];\n",
       "    }\n",
       "  }\n",
       "\n",
       "  function register_renderer(events, OutputArea) {\n",
       "\n",
       "    function append_mime(data, metadata, element) {\n",
       "      // create a DOM node to render to\n",
       "      var toinsert = this.create_output_subarea(\n",
       "        metadata,\n",
       "        CLASS_NAME,\n",
       "        EXEC_MIME_TYPE\n",
       "      );\n",
       "      this.keyboard_manager.register_events(toinsert);\n",
       "      // Render to node\n",
       "      var props = {data: data, metadata: metadata[EXEC_MIME_TYPE]};\n",
       "      render(props, toinsert[toinsert.length - 1]);\n",
       "      element.append(toinsert);\n",
       "      return toinsert\n",
       "    }\n",
       "\n",
       "    /* Handle when an output is cleared or removed */\n",
       "    events.on('clear_output.CodeCell', handleClearOutput);\n",
       "    events.on('delete.Cell', handleClearOutput);\n",
       "\n",
       "    /* Handle when a new output is added */\n",
       "    events.on('output_added.OutputArea', handleAddOutput);\n",
       "\n",
       "    /**\n",
       "     * Register the mime type and append_mime function with output_area\n",
       "     */\n",
       "    OutputArea.prototype.register_mime_type(EXEC_MIME_TYPE, append_mime, {\n",
       "      /* Is output safe? */\n",
       "      safe: true,\n",
       "      /* Index of renderer in `output_area.display_order` */\n",
       "      index: 0\n",
       "    });\n",
       "  }\n",
       "\n",
       "  // register the mime type if in Jupyter Notebook environment and previously unregistered\n",
       "  if (root.Jupyter !== undefined) {\n",
       "    var events = require('base/js/events');\n",
       "    var OutputArea = require('notebook/js/outputarea').OutputArea;\n",
       "\n",
       "    if (OutputArea.prototype.mime_types().indexOf(EXEC_MIME_TYPE) == -1) {\n",
       "      register_renderer(events, OutputArea);\n",
       "    }\n",
       "  }\n",
       "\n",
       "  \n",
       "  if (typeof (root._bokeh_timeout) === \"undefined\" || force === true) {\n",
       "    root._bokeh_timeout = Date.now() + 5000;\n",
       "    root._bokeh_failed_load = false;\n",
       "  }\n",
       "\n",
       "  var NB_LOAD_WARNING = {'data': {'text/html':\n",
       "     \"<div style='background-color: #fdd'>\\n\"+\n",
       "     \"<p>\\n\"+\n",
       "     \"BokehJS does not appear to have successfully loaded. If loading BokehJS from CDN, this \\n\"+\n",
       "     \"may be due to a slow or bad network connection. Possible fixes:\\n\"+\n",
       "     \"</p>\\n\"+\n",
       "     \"<ul>\\n\"+\n",
       "     \"<li>re-rerun `output_notebook()` to attempt to load from CDN again, or</li>\\n\"+\n",
       "     \"<li>use INLINE resources instead, as so:</li>\\n\"+\n",
       "     \"</ul>\\n\"+\n",
       "     \"<code>\\n\"+\n",
       "     \"from bokeh.resources import INLINE\\n\"+\n",
       "     \"output_notebook(resources=INLINE)\\n\"+\n",
       "     \"</code>\\n\"+\n",
       "     \"</div>\"}};\n",
       "\n",
       "  function display_loaded() {\n",
       "    var el = document.getElementById(\"1001\");\n",
       "    if (el != null) {\n",
       "      el.textContent = \"BokehJS is loading...\";\n",
       "    }\n",
       "    if (root.Bokeh !== undefined) {\n",
       "      if (el != null) {\n",
       "        el.textContent = \"BokehJS \" + root.Bokeh.version + \" successfully loaded.\";\n",
       "      }\n",
       "    } else if (Date.now() < root._bokeh_timeout) {\n",
       "      setTimeout(display_loaded, 100)\n",
       "    }\n",
       "  }\n",
       "\n",
       "\n",
       "  function run_callbacks() {\n",
       "    try {\n",
       "      root._bokeh_onload_callbacks.forEach(function(callback) { callback() });\n",
       "    }\n",
       "    finally {\n",
       "      delete root._bokeh_onload_callbacks\n",
       "    }\n",
       "    console.info(\"Bokeh: all callbacks have finished\");\n",
       "  }\n",
       "\n",
       "  function load_libs(js_urls, callback) {\n",
       "    root._bokeh_onload_callbacks.push(callback);\n",
       "    if (root._bokeh_is_loading > 0) {\n",
       "      console.log(\"Bokeh: BokehJS is being loaded, scheduling callback at\", now());\n",
       "      return null;\n",
       "    }\n",
       "    if (js_urls == null || js_urls.length === 0) {\n",
       "      run_callbacks();\n",
       "      return null;\n",
       "    }\n",
       "    console.log(\"Bokeh: BokehJS not loaded, scheduling load and callback at\", now());\n",
       "    root._bokeh_is_loading = js_urls.length;\n",
       "    for (var i = 0; i < js_urls.length; i++) {\n",
       "      var url = js_urls[i];\n",
       "      var s = document.createElement('script');\n",
       "      s.src = url;\n",
       "      s.async = false;\n",
       "      s.onreadystatechange = s.onload = function() {\n",
       "        root._bokeh_is_loading--;\n",
       "        if (root._bokeh_is_loading === 0) {\n",
       "          console.log(\"Bokeh: all BokehJS libraries loaded\");\n",
       "          run_callbacks()\n",
       "        }\n",
       "      };\n",
       "      s.onerror = function() {\n",
       "        console.warn(\"failed to load library \" + url);\n",
       "      };\n",
       "      console.log(\"Bokeh: injecting script tag for BokehJS library: \", url);\n",
       "      document.getElementsByTagName(\"head\")[0].appendChild(s);\n",
       "    }\n",
       "  };var element = document.getElementById(\"1001\");\n",
       "  if (element == null) {\n",
       "    console.log(\"Bokeh: ERROR: autoload.js configured with elementid '1001' but no matching script tag was found. \")\n",
       "    return false;\n",
       "  }\n",
       "\n",
       "  var js_urls = [\"https://cdn.pydata.org/bokeh/release/bokeh-1.0.1.min.js\", \"https://cdn.pydata.org/bokeh/release/bokeh-widgets-1.0.1.min.js\", \"https://cdn.pydata.org/bokeh/release/bokeh-tables-1.0.1.min.js\", \"https://cdn.pydata.org/bokeh/release/bokeh-gl-1.0.1.min.js\"];\n",
       "\n",
       "  var inline_js = [\n",
       "    function(Bokeh) {\n",
       "      Bokeh.set_log_level(\"info\");\n",
       "    },\n",
       "    \n",
       "    function(Bokeh) {\n",
       "      \n",
       "    },\n",
       "    function(Bokeh) {\n",
       "      console.log(\"Bokeh: injecting CSS: https://cdn.pydata.org/bokeh/release/bokeh-1.0.1.min.css\");\n",
       "      Bokeh.embed.inject_css(\"https://cdn.pydata.org/bokeh/release/bokeh-1.0.1.min.css\");\n",
       "      console.log(\"Bokeh: injecting CSS: https://cdn.pydata.org/bokeh/release/bokeh-widgets-1.0.1.min.css\");\n",
       "      Bokeh.embed.inject_css(\"https://cdn.pydata.org/bokeh/release/bokeh-widgets-1.0.1.min.css\");\n",
       "      console.log(\"Bokeh: injecting CSS: https://cdn.pydata.org/bokeh/release/bokeh-tables-1.0.1.min.css\");\n",
       "      Bokeh.embed.inject_css(\"https://cdn.pydata.org/bokeh/release/bokeh-tables-1.0.1.min.css\");\n",
       "    }\n",
       "  ];\n",
       "\n",
       "  function run_inline_js() {\n",
       "    \n",
       "    if ((root.Bokeh !== undefined) || (force === true)) {\n",
       "      for (var i = 0; i < inline_js.length; i++) {\n",
       "        inline_js[i].call(root, root.Bokeh);\n",
       "      }if (force === true) {\n",
       "        display_loaded();\n",
       "      }} else if (Date.now() < root._bokeh_timeout) {\n",
       "      setTimeout(run_inline_js, 100);\n",
       "    } else if (!root._bokeh_failed_load) {\n",
       "      console.log(\"Bokeh: BokehJS failed to load within specified timeout.\");\n",
       "      root._bokeh_failed_load = true;\n",
       "    } else if (force !== true) {\n",
       "      var cell = $(document.getElementById(\"1001\")).parents('.cell').data().cell;\n",
       "      cell.output_area.append_execute_result(NB_LOAD_WARNING)\n",
       "    }\n",
       "\n",
       "  }\n",
       "\n",
       "  if (root._bokeh_is_loading === 0) {\n",
       "    console.log(\"Bokeh: BokehJS loaded, going straight to plotting\");\n",
       "    run_inline_js();\n",
       "  } else {\n",
       "    load_libs(js_urls, function() {\n",
       "      console.log(\"Bokeh: BokehJS plotting callback run at\", now());\n",
       "      run_inline_js();\n",
       "    });\n",
       "  }\n",
       "}(window));"
      ],
      "application/vnd.bokehjs_load.v0+json": "\n(function(root) {\n  function now() {\n    return new Date();\n  }\n\n  var force = true;\n\n  if (typeof (root._bokeh_onload_callbacks) === \"undefined\" || force === true) {\n    root._bokeh_onload_callbacks = [];\n    root._bokeh_is_loading = undefined;\n  }\n\n  \n\n  \n  if (typeof (root._bokeh_timeout) === \"undefined\" || force === true) {\n    root._bokeh_timeout = Date.now() + 5000;\n    root._bokeh_failed_load = false;\n  }\n\n  var NB_LOAD_WARNING = {'data': {'text/html':\n     \"<div style='background-color: #fdd'>\\n\"+\n     \"<p>\\n\"+\n     \"BokehJS does not appear to have successfully loaded. If loading BokehJS from CDN, this \\n\"+\n     \"may be due to a slow or bad network connection. Possible fixes:\\n\"+\n     \"</p>\\n\"+\n     \"<ul>\\n\"+\n     \"<li>re-rerun `output_notebook()` to attempt to load from CDN again, or</li>\\n\"+\n     \"<li>use INLINE resources instead, as so:</li>\\n\"+\n     \"</ul>\\n\"+\n     \"<code>\\n\"+\n     \"from bokeh.resources import INLINE\\n\"+\n     \"output_notebook(resources=INLINE)\\n\"+\n     \"</code>\\n\"+\n     \"</div>\"}};\n\n  function display_loaded() {\n    var el = document.getElementById(\"1001\");\n    if (el != null) {\n      el.textContent = \"BokehJS is loading...\";\n    }\n    if (root.Bokeh !== undefined) {\n      if (el != null) {\n        el.textContent = \"BokehJS \" + root.Bokeh.version + \" successfully loaded.\";\n      }\n    } else if (Date.now() < root._bokeh_timeout) {\n      setTimeout(display_loaded, 100)\n    }\n  }\n\n\n  function run_callbacks() {\n    try {\n      root._bokeh_onload_callbacks.forEach(function(callback) { callback() });\n    }\n    finally {\n      delete root._bokeh_onload_callbacks\n    }\n    console.info(\"Bokeh: all callbacks have finished\");\n  }\n\n  function load_libs(js_urls, callback) {\n    root._bokeh_onload_callbacks.push(callback);\n    if (root._bokeh_is_loading > 0) {\n      console.log(\"Bokeh: BokehJS is being loaded, scheduling callback at\", now());\n      return null;\n    }\n    if (js_urls == null || js_urls.length === 0) {\n      run_callbacks();\n      return null;\n    }\n    console.log(\"Bokeh: BokehJS not loaded, scheduling load and callback at\", now());\n    root._bokeh_is_loading = js_urls.length;\n    for (var i = 0; i < js_urls.length; i++) {\n      var url = js_urls[i];\n      var s = document.createElement('script');\n      s.src = url;\n      s.async = false;\n      s.onreadystatechange = s.onload = function() {\n        root._bokeh_is_loading--;\n        if (root._bokeh_is_loading === 0) {\n          console.log(\"Bokeh: all BokehJS libraries loaded\");\n          run_callbacks()\n        }\n      };\n      s.onerror = function() {\n        console.warn(\"failed to load library \" + url);\n      };\n      console.log(\"Bokeh: injecting script tag for BokehJS library: \", url);\n      document.getElementsByTagName(\"head\")[0].appendChild(s);\n    }\n  };var element = document.getElementById(\"1001\");\n  if (element == null) {\n    console.log(\"Bokeh: ERROR: autoload.js configured with elementid '1001' but no matching script tag was found. \")\n    return false;\n  }\n\n  var js_urls = [\"https://cdn.pydata.org/bokeh/release/bokeh-1.0.1.min.js\", \"https://cdn.pydata.org/bokeh/release/bokeh-widgets-1.0.1.min.js\", \"https://cdn.pydata.org/bokeh/release/bokeh-tables-1.0.1.min.js\", \"https://cdn.pydata.org/bokeh/release/bokeh-gl-1.0.1.min.js\"];\n\n  var inline_js = [\n    function(Bokeh) {\n      Bokeh.set_log_level(\"info\");\n    },\n    \n    function(Bokeh) {\n      \n    },\n    function(Bokeh) {\n      console.log(\"Bokeh: injecting CSS: https://cdn.pydata.org/bokeh/release/bokeh-1.0.1.min.css\");\n      Bokeh.embed.inject_css(\"https://cdn.pydata.org/bokeh/release/bokeh-1.0.1.min.css\");\n      console.log(\"Bokeh: injecting CSS: https://cdn.pydata.org/bokeh/release/bokeh-widgets-1.0.1.min.css\");\n      Bokeh.embed.inject_css(\"https://cdn.pydata.org/bokeh/release/bokeh-widgets-1.0.1.min.css\");\n      console.log(\"Bokeh: injecting CSS: https://cdn.pydata.org/bokeh/release/bokeh-tables-1.0.1.min.css\");\n      Bokeh.embed.inject_css(\"https://cdn.pydata.org/bokeh/release/bokeh-tables-1.0.1.min.css\");\n    }\n  ];\n\n  function run_inline_js() {\n    \n    if ((root.Bokeh !== undefined) || (force === true)) {\n      for (var i = 0; i < inline_js.length; i++) {\n        inline_js[i].call(root, root.Bokeh);\n      }if (force === true) {\n        display_loaded();\n      }} else if (Date.now() < root._bokeh_timeout) {\n      setTimeout(run_inline_js, 100);\n    } else if (!root._bokeh_failed_load) {\n      console.log(\"Bokeh: BokehJS failed to load within specified timeout.\");\n      root._bokeh_failed_load = true;\n    } else if (force !== true) {\n      var cell = $(document.getElementById(\"1001\")).parents('.cell').data().cell;\n      cell.output_area.append_execute_result(NB_LOAD_WARNING)\n    }\n\n  }\n\n  if (root._bokeh_is_loading === 0) {\n    console.log(\"Bokeh: BokehJS loaded, going straight to plotting\");\n    run_inline_js();\n  } else {\n    load_libs(js_urls, function() {\n      console.log(\"Bokeh: BokehJS plotting callback run at\", now());\n      run_inline_js();\n    });\n  }\n}(window));"
     },
     "metadata": {},
     "output_type": "display_data"
    }
   ],
   "source": [
    "from datetime import datetime\n",
    "import matplotlib.pyplot as plt\n",
    "import numpy as np\n",
    "import pandas as pd\n",
    "from tqdm import tqdm, tqdm_notebook\n",
    "from sklearn.metrics import accuracy_score\n",
    "\n",
    "import torch\n",
    "import torch.nn as nn\n",
    "from torch.autograd import Variable\n",
    "import torch.utils.data as utils_data\n",
    "import torch.nn.functional as F\n",
    "\n",
    "# from bokeh.io import show, output_notebook\n",
    "# from bokeh.plotting import figure, output_file, show\n",
    "# from bokeh.palettes import Spectral4\n",
    "# from bokeh.layouts import column\n",
    "\n",
    "device = torch.device(\"cuda:0\" if torch.cuda.is_available() else \"cpu\")\n",
    "\n",
    "DAYS_IN_YEAR = 366\n",
    "BATCH_SIZE = 10\n",
    "\n",
    "metrics_linear_columns = ['Epoch', 'Loss_te', 'Acc', 'Loss_tr']\n",
    "metrics_conv_columns = ['Epoch', 'Loss_te', 'Loss_tr']"
   ]
  },
  {
   "cell_type": "code",
   "execution_count": 2,
   "metadata": {
    "tags": [
     "skip"
    ]
   },
   "outputs": [],
   "source": [
    "def plot_metrics_data(metrics_data):\n",
    "    # create a new plot with a datetime axis type\n",
    "    p1 = figure(plot_width=800, plot_height=250, x_axis_label=\"Epoch\")\n",
    "    for name, color in zip([\"Loss_tr\", \"Loss_te\"], Spectral4):\n",
    "        p1.line(metrics_data['Epoch'], metrics_data[name], line_width=2, color=color, alpha=0.8, legend=name)\n",
    "    if 'Acc' in metrics_data.columns:\n",
    "        p2 = figure(plot_width=800, plot_height=250, x_axis_label=\"Epoch\")\n",
    "        p2.line(metrics_data['Epoch'], metrics_data['Acc'], line_width=2, color=\"red\", alpha=0.8, legend=\"Acc\")\n",
    "        show(column(p1, p2))\n",
    "    else:\n",
    "     show(p1)"
   ]
  },
  {
   "cell_type": "code",
   "execution_count": 3,
   "metadata": {
    "tags": [
     "skip"
    ]
   },
   "outputs": [
    {
     "name": "stdout",
     "output_type": "stream",
     "text": [
      "modello_enophit_new.ipynb              ph_model_1_model_20181130_135830.pkl\n",
      "modello_enophit_per_varieta.ipynb      ph_model_1_weights_20181130_135830.pkl\n",
      "ph_model_0_metrics_20181130_135830.pkl ph_model_b_metrics_20181130_135730.pkl\n",
      "ph_model_0_model_20181130_135830.pkl   ph_model_b_model_20181130_135730.pkl\n",
      "ph_model_0_weights_20181130_135830.pkl ph_model_b_weights_20181130_135730.pkl\n",
      "ph_model_1_metrics_20181130_135830.pkl\n"
     ]
    }
   ],
   "source": [
    "!ls "
   ]
  },
  {
   "cell_type": "markdown",
   "metadata": {},
   "source": [
    "#### Load data files\n",
    "\n",
    "`*_tr` > training data  \n",
    "`*_te` > test data\n",
    "\n",
    "We do not shuffle data and test only on (2017) recent data because we need to predict the next season. So shuffling the data would be cheating."
   ]
  },
  {
   "cell_type": "code",
   "execution_count": 15,
   "metadata": {
    "tags": [
     "block:dataprocess"
    ]
   },
   "outputs": [],
   "source": [
    "temperature_tr = pd.read_pickle(f'{_input_data_folder}temps_2011_2016.pkl')\n",
    "rilevazioni_tr = pd.read_pickle(f'{_input_data_folder}rilevazioni_2011_2016.pkl')\n",
    "\n",
    "temperature_te = pd.read_pickle(f'{_input_data_folder}2017_daily_temps_for_each_point.pkl')\n",
    "rilevazioni_te = pd.read_pickle(f'{_input_data_folder}rilevazioni_2017.pkl')\n",
    "\n",
    "varieta_tr = pd.read_pickle(f'{_input_data_folder}varieta_2011_2016.pkl')\n",
    "varieta_te = pd.read_pickle(f'{_input_data_folder}varieta_2017.pkl')\n",
    "\n",
    "# Each plant variety has its own code\n",
    "nome_varieta = pd.read_pickle(f'{_input_data_folder}varieta_id_e_nome.pkl')"
   ]
  },
  {
   "cell_type": "code",
   "execution_count": 16,
   "metadata": {
    "tags": [
     "skip"
    ]
   },
   "outputs": [
    {
     "data": {
      "text/plain": [
       "varieta    CHARDONNAY B.\n",
       "Name: 298.0, dtype: object"
      ]
     },
     "execution_count": 16,
     "metadata": {},
     "output_type": "execute_result"
    }
   ],
   "source": [
    "nome_varieta.loc[298]"
   ]
  },
  {
   "cell_type": "markdown",
   "metadata": {},
   "source": [
    "#### Get Chardonnay Data"
   ]
  },
  {
   "cell_type": "code",
   "execution_count": 9,
   "metadata": {},
   "outputs": [],
   "source": [
    "# Get all the coordinates (particella centroid) that have a chardonnay collection\n",
    "# The Colums index of the dataframe is the centroid of the particella.\n",
    "chardonnay = varieta_tr[varieta_tr == 298].fillna(0).sum()\n",
    "chardonnay_ix = chardonnay[chardonnay > 0].index.values  # list of centroids / particelle with chardonnay collections\n",
    "\n",
    "# same for 2017\n",
    "chardonnay_te = varieta_te[varieta_te == 298].fillna(0).sum()\n",
    "chardonnay_te_ix = chardonnay_te[chardonnay_te > 0].index.values\n",
    "\n",
    "# Get rilevazioni and temperatures from chardonnay collections periods\n",
    "rilevazioni_tr = rilevazioni_tr[chardonnay_ix]\n",
    "temperature_tr = temperature_tr[chardonnay_ix]\n",
    "\n",
    "rilevazioni_te = rilevazioni_te[chardonnay_te_ix]\n",
    "temperature_te = temperature_te[chardonnay_te_ix]"
   ]
  },
  {
   "cell_type": "code",
   "execution_count": 10,
   "metadata": {},
   "outputs": [],
   "source": [
    "# Exclude all the collections preceeding 2015\n",
    "rilevazioni_tr = rilevazioni_tr[rilevazioni_tr.index >= pd.Timestamp(2015, 1, 1)]"
   ]
  },
  {
   "cell_type": "code",
   "execution_count": 11,
   "metadata": {
    "tags": [
     "block:datasets",
     "prev:dataprocess"
    ]
   },
   "outputs": [],
   "source": [
    "def create_dataset(temperature, rilevazioni):\n",
    "    \"\"\"\n",
    "    TODO: Document this procedure\n",
    "    \"\"\"\n",
    "    # Number of maximum samples\n",
    "    num_rilevazioni = rilevazioni.astype(bool).sum().sum()\n",
    "    \n",
    "    # Each `temps_data` row contains the temperatures relative to that `bbch_data` \n",
    "    # cell from the first day of that year up to six days prior the collection of that bbch\n",
    "    temps = np.ones((num_rilevazioni, DAYS_IN_YEAR)) * (-999.0)\n",
    "    bbch = np.zeros(num_rilevazioni)\n",
    "    \n",
    "    j = 0\n",
    "    # Iterate over the particelle\n",
    "    for i in range(rilevazioni.shape[1]):\n",
    "        rilev = rilevazioni.iloc[:, i][rilevazioni.iloc[:, i] != 0]\n",
    "        date = rilev.index\n",
    "        particella = rilevazioni.columns[i]\n",
    "        # iterate over the date of collection of chardonnay in this particella\n",
    "        for k, data in enumerate(date):\n",
    "            # get the temperatures the beginning of this year up to six days prior this date\n",
    "            temps_data = temperature[particella][\n",
    "                (temperature[particella].index >= pd.Timestamp(data.year, 1, 1)) & \n",
    "                (temperature[particella].index < data - pd.to_timedelta(6, unit='d'))\n",
    "            ].values\n",
    "            # temps[j, :len(temps_data)] = (temps_data) / (temps_data.mean())\n",
    "            temps[j, :len(temps_data)] = temps_data\n",
    "            # temps[j] = np.exp(temps[j])\n",
    "            bbch[j] = rilev.values[k]\n",
    "            j += 1\n",
    "\n",
    "    # create binary dataset for classifier of \"low\" bbch and \"high\" bbch        \n",
    "    bbch_b = np.zeros(bbch.shape)\n",
    "    bbch_b[:] = bbch[:]\n",
    "    bbch_b[bbch_b <= 30] = 0\n",
    "    bbch_b[bbch_b > 30] = 1\n",
    "    return temps, bbch, bbch_b"
   ]
  },
  {
   "cell_type": "markdown",
   "metadata": {},
   "source": [
    "#### Create training dataset"
   ]
  },
  {
   "cell_type": "code",
   "execution_count": 12,
   "metadata": {},
   "outputs": [],
   "source": [
    "temps_data, bbch_data, bbch_data_b = create_dataset(temperature=temperature_tr, rilevazioni=rilevazioni_tr)"
   ]
  },
  {
   "cell_type": "code",
   "execution_count": 13,
   "metadata": {
    "tags": [
     "skip"
    ]
   },
   "outputs": [
    {
     "data": {
      "text/plain": [
       "-999.0"
      ]
     },
     "execution_count": 13,
     "metadata": {},
     "output_type": "execute_result"
    }
   ],
   "source": [
    "temps_data[0][300]"
   ]
  },
  {
   "cell_type": "markdown",
   "metadata": {},
   "source": [
    "#### Create test dataset"
   ]
  },
  {
   "cell_type": "code",
   "execution_count": 14,
   "metadata": {},
   "outputs": [],
   "source": [
    "temps_data_te, bbch_data_te, bbch_data_te_b = create_dataset(temperature=temperature_te, rilevazioni=rilevazioni_te)"
   ]
  },
  {
   "cell_type": "markdown",
   "metadata": {},
   "source": [
    "#### Create Torch Datasets"
   ]
  },
  {
   "cell_type": "code",
   "execution_count": 15,
   "metadata": {
    "tags": [
     "skip"
    ]
   },
   "outputs": [
    {
     "data": {
      "text/plain": [
       "(702, 1237)"
      ]
     },
     "execution_count": 15,
     "metadata": {},
     "output_type": "execute_result"
    }
   ],
   "source": [
    "rilevazioni_tr.shape"
   ]
  },
  {
   "cell_type": "code",
   "execution_count": 16,
   "metadata": {
    "tags": [
     "block:classifier",
     "prev:datasets"
    ]
   },
   "outputs": [],
   "source": [
    "configs_tr = torch.from_numpy(temps_data).type(torch.FloatTensor).to(device)\n",
    "configs_te = Variable(torch.from_numpy(temps_data_te).type(torch.FloatTensor)).to(device)\n",
    "\n",
    "bbch_b_tr= torch.from_numpy(bbch_data_b).type(torch.FloatTensor).to(device)\n",
    "bbch_b_te = Variable(torch.from_numpy(bbch_data_te_b).type(torch.FloatTensor)).to(device)\n",
    "\n",
    "training_samples = utils_data.TensorDataset(configs_tr, bbch_b_tr)\n",
    "data_loader_tr = utils_data.DataLoader(training_samples, batch_size=BATCH_SIZE, shuffle=True)"
   ]
  },
  {
   "cell_type": "markdown",
   "metadata": {},
   "source": [
    "#### Classifier"
   ]
  },
  {
   "cell_type": "code",
   "execution_count": 17,
   "metadata": {
    "tags": [
     "block:functions"
    ]
   },
   "outputs": [],
   "source": [
    "class pheno_model_classifier(nn.Module):\n",
    "    def __init__(self, input_size=DAYS_IN_YEAR):\n",
    "        # super(pheno_model_classifier, self).__init__()\n",
    "        nn.Module.__init__(self)\n",
    "        \n",
    "        self.input_size = input_size\n",
    "        self.start_n = (input_size + 1) // 2\n",
    "        self.lin1 = nn.Linear(self.input_size, self.start_n)\n",
    "        self.lin2 = nn.Linear(self.start_n, int(self.start_n / 2))\n",
    "        self.lin3 = nn.Linear(int(self.start_n / 2), 1)\n",
    "\n",
    "    def forward(self, x):\n",
    "        x = self.lin1(x)\n",
    "        x = torch.sigmoid(x)\n",
    "        x = F.dropout(x, p=0.4)\n",
    "        x = self.lin2(x)\n",
    "        x = torch.sigmoid(x)\n",
    "        x = F.dropout(x, p=0.4)\n",
    "        x = self.lin3(x)\n",
    "        x = torch.sigmoid(x)\n",
    "\n",
    "        return x"
   ]
  },
  {
   "cell_type": "markdown",
   "metadata": {},
   "source": [
    "**Train the classifier and output metrics**"
   ]
  },
  {
   "cell_type": "code",
   "execution_count": 18,
   "metadata": {
    "tags": [
     "block:classifier",
     "prev:datasets"
    ]
   },
   "outputs": [],
   "source": [
    "ph_model_b = pheno_model_classifier().to(device)"
   ]
  },
  {
   "cell_type": "code",
   "execution_count": 22,
   "metadata": {},
   "outputs": [
    {
     "name": "stderr",
     "output_type": "stream",
     "text": [
      "Epoch 0:   0%|          | 0/100 [00:00<?, ?it/s]/home/fioravanzo/anaconda3/envs/pei/lib/python3.7/site-packages/torch/tensor.py:268: UserWarning: non-inplace resize_as is deprecated\n",
      "  warnings.warn(\"non-inplace resize_as is deprecated\")\n",
      "Epoch 199:  90%|█████████ | 90/100 [01:01<00:59,  5.91s/it, Loss_tr=0.0454]"
     ]
    },
    {
     "name": "stdout",
     "output_type": "stream",
     "text": [
      "Done.\n"
     ]
    },
    {
     "name": "stderr",
     "output_type": "stream",
     "text": [
      "\n"
     ]
    }
   ],
   "source": [
    "# Init a dataframe to store the training metrics\n",
    "metrics_linear_model = pd.DataFrame(columns=metrics_linear_columns)\n",
    "\n",
    "loss_f = nn.MSELoss()\n",
    "\n",
    "optimizer = torch.optim.Adam(ph_model_b.parameters(), lr=0.0001)\n",
    "num_epochs = 5\n",
    "with tqdm(total=100) as pbar:\n",
    "    for epoch in range(num_epochs):\n",
    "        pbar.n = 0\n",
    "        pbar.refresh()\n",
    "        loss_mean = 0.\n",
    "        pbar.set_description('Epoch %d' % epoch )\n",
    "\n",
    "        for i, (confs, bbch) in enumerate(data_loader_tr):\n",
    "            confs_tmp = Variable(confs)\n",
    "            bbch_tmp = Variable(bbch.type(torch.FloatTensor)).to(device)\n",
    "\n",
    "            optimizer.zero_grad() # zero the gradient buffer\n",
    "            outputs = ph_model_b(confs_tmp)\n",
    "            loss = loss_f(outputs.resize_as(bbch_tmp), bbch_tmp)\n",
    "\n",
    "            loss.backward()\n",
    "            optimizer.step()\n",
    "            loss_mean = (loss_mean * i + loss.item()) / (i + 1)\n",
    "            if ((i+1) % (len(training_samples) // 10 // BATCH_SIZE)) == 0:\n",
    "                pbar.set_postfix(Loss_tr = loss_mean)\n",
    "                pbar.update(10)\n",
    "\n",
    "        outputs = ph_model_b(configs_te)\n",
    "        loss_te = loss_f(outputs.resize_as(bbch_b_te), bbch_b_te)\n",
    "        acc = accuracy_score(np.round((outputs.resize_as(bbch_b_te).data).cpu().numpy()).astype(int), bbch_b_te.data.cpu().numpy())\n",
    "#         pbar.set_postfix(Loss_te = loss_te.item(), Acc=acc, Loss_tr = loss_mean)\n",
    "        metrics_linear_model = metrics_linear_model.append(pd.Series([epoch, loss_te.item(), acc, loss_mean], index=metrics_linear_columns), ignore_index=True)\n",
    "        pbar.update()\n",
    "print(\"Done.\")"
   ]
  },
  {
   "cell_type": "code",
   "execution_count": 23,
   "metadata": {
    "tags": [
     "skip"
    ]
   },
   "outputs": [
    {
     "data": {
      "text/html": [
       "\n",
       "\n",
       "\n",
       "\n",
       "\n",
       "\n",
       "  <div class=\"bk-root\" id=\"d9ee77dd-2106-4e72-8831-ce3749a16014\"></div>\n"
      ]
     },
     "metadata": {},
     "output_type": "display_data"
    },
    {
     "data": {
      "application/javascript": [
       "(function(root) {\n",
       "  function embed_document(root) {\n",
       "    \n",
       "  var docs_json = {\"80595d5b-cc91-4088-b8fe-ce7a3d10d643\":{\"roots\":{\"references\":[{\"attributes\":{\"children\":[{\"id\":\"1002\",\"subtype\":\"Figure\",\"type\":\"Plot\"},{\"id\":\"1065\",\"subtype\":\"Figure\",\"type\":\"Plot\"}]},\"id\":\"1113\",\"type\":\"Column\"},{\"attributes\":{\"plot\":null,\"text\":\"\"},\"id\":\"1104\",\"type\":\"Title\"},{\"attributes\":{\"source\":{\"id\":\"1050\",\"type\":\"ColumnDataSource\"}},\"id\":\"1054\",\"type\":\"CDSView\"},{\"attributes\":{\"callback\":null},\"id\":\"1005\",\"type\":\"DataRange1d\"},{\"attributes\":{},\"id\":\"1021\",\"type\":\"PanTool\"},{\"attributes\":{\"items\":[{\"id\":\"1049\",\"type\":\"LegendItem\"},{\"id\":\"1064\",\"type\":\"LegendItem\"}],\"plot\":{\"id\":\"1002\",\"subtype\":\"Figure\",\"type\":\"Plot\"}},\"id\":\"1048\",\"type\":\"Legend\"},{\"attributes\":{\"active_drag\":\"auto\",\"active_inspect\":\"auto\",\"active_multi\":null,\"active_scroll\":\"auto\",\"active_tap\":\"auto\",\"tools\":[{\"id\":\"1084\",\"type\":\"PanTool\"},{\"id\":\"1085\",\"type\":\"WheelZoomTool\"},{\"id\":\"1086\",\"type\":\"BoxZoomTool\"},{\"id\":\"1087\",\"type\":\"SaveTool\"},{\"id\":\"1088\",\"type\":\"ResetTool\"},{\"id\":\"1089\",\"type\":\"HelpTool\"}]},\"id\":\"1090\",\"type\":\"Toolbar\"},{\"attributes\":{\"below\":[{\"id\":\"1074\",\"type\":\"LinearAxis\"}],\"left\":[{\"id\":\"1079\",\"type\":\"LinearAxis\"}],\"plot_height\":250,\"plot_width\":800,\"renderers\":[{\"id\":\"1074\",\"type\":\"LinearAxis\"},{\"id\":\"1078\",\"type\":\"Grid\"},{\"id\":\"1079\",\"type\":\"LinearAxis\"},{\"id\":\"1083\",\"type\":\"Grid\"},{\"id\":\"1092\",\"type\":\"BoxAnnotation\"},{\"id\":\"1111\",\"type\":\"Legend\"},{\"id\":\"1102\",\"type\":\"GlyphRenderer\"}],\"title\":{\"id\":\"1104\",\"type\":\"Title\"},\"toolbar\":{\"id\":\"1090\",\"type\":\"Toolbar\"},\"x_range\":{\"id\":\"1066\",\"type\":\"DataRange1d\"},\"x_scale\":{\"id\":\"1070\",\"type\":\"LinearScale\"},\"y_range\":{\"id\":\"1068\",\"type\":\"DataRange1d\"},\"y_scale\":{\"id\":\"1072\",\"type\":\"LinearScale\"}},\"id\":\"1065\",\"subtype\":\"Figure\",\"type\":\"Plot\"},{\"attributes\":{},\"id\":\"1080\",\"type\":\"BasicTicker\"},{\"attributes\":{\"bottom_units\":\"screen\",\"fill_alpha\":{\"value\":0.5},\"fill_color\":{\"value\":\"lightgrey\"},\"left_units\":\"screen\",\"level\":\"overlay\",\"line_alpha\":{\"value\":1.0},\"line_color\":{\"value\":\"black\"},\"line_dash\":[4,4],\"line_width\":{\"value\":2},\"plot\":null,\"render_mode\":\"css\",\"right_units\":\"screen\",\"top_units\":\"screen\"},\"id\":\"1092\",\"type\":\"BoxAnnotation\"},{\"attributes\":{},\"id\":\"1022\",\"type\":\"WheelZoomTool\"},{\"attributes\":{},\"id\":\"1007\",\"type\":\"LinearScale\"},{\"attributes\":{\"callback\":null},\"id\":\"1003\",\"type\":\"DataRange1d\"},{\"attributes\":{},\"id\":\"1025\",\"type\":\"ResetTool\"},{\"attributes\":{},\"id\":\"1108\",\"type\":\"BasicTickFormatter\"},{\"attributes\":{\"below\":[{\"id\":\"1011\",\"type\":\"LinearAxis\"}],\"left\":[{\"id\":\"1016\",\"type\":\"LinearAxis\"}],\"plot_height\":250,\"plot_width\":800,\"renderers\":[{\"id\":\"1011\",\"type\":\"LinearAxis\"},{\"id\":\"1015\",\"type\":\"Grid\"},{\"id\":\"1016\",\"type\":\"LinearAxis\"},{\"id\":\"1020\",\"type\":\"Grid\"},{\"id\":\"1029\",\"type\":\"BoxAnnotation\"},{\"id\":\"1048\",\"type\":\"Legend\"},{\"id\":\"1039\",\"type\":\"GlyphRenderer\"},{\"id\":\"1053\",\"type\":\"GlyphRenderer\"}],\"title\":{\"id\":\"1041\",\"type\":\"Title\"},\"toolbar\":{\"id\":\"1027\",\"type\":\"Toolbar\"},\"x_range\":{\"id\":\"1003\",\"type\":\"DataRange1d\"},\"x_scale\":{\"id\":\"1007\",\"type\":\"LinearScale\"},\"y_range\":{\"id\":\"1005\",\"type\":\"DataRange1d\"},\"y_scale\":{\"id\":\"1009\",\"type\":\"LinearScale\"}},\"id\":\"1002\",\"subtype\":\"Figure\",\"type\":\"Plot\"},{\"attributes\":{\"overlay\":{\"id\":\"1029\",\"type\":\"BoxAnnotation\"}},\"id\":\"1023\",\"type\":\"BoxZoomTool\"},{\"attributes\":{},\"id\":\"1106\",\"type\":\"BasicTickFormatter\"},{\"attributes\":{\"axis_label\":\"Epoch\",\"formatter\":{\"id\":\"1106\",\"type\":\"BasicTickFormatter\"},\"plot\":{\"id\":\"1065\",\"subtype\":\"Figure\",\"type\":\"Plot\"},\"ticker\":{\"id\":\"1075\",\"type\":\"BasicTicker\"}},\"id\":\"1074\",\"type\":\"LinearAxis\"},{\"attributes\":{},\"id\":\"1085\",\"type\":\"WheelZoomTool\"},{\"attributes\":{\"active_drag\":\"auto\",\"active_inspect\":\"auto\",\"active_multi\":null,\"active_scroll\":\"auto\",\"active_tap\":\"auto\",\"tools\":[{\"id\":\"1021\",\"type\":\"PanTool\"},{\"id\":\"1022\",\"type\":\"WheelZoomTool\"},{\"id\":\"1023\",\"type\":\"BoxZoomTool\"},{\"id\":\"1024\",\"type\":\"SaveTool\"},{\"id\":\"1025\",\"type\":\"ResetTool\"},{\"id\":\"1026\",\"type\":\"HelpTool\"}]},\"id\":\"1027\",\"type\":\"Toolbar\"},{\"attributes\":{\"dimension\":1,\"plot\":{\"id\":\"1065\",\"subtype\":\"Figure\",\"type\":\"Plot\"},\"ticker\":{\"id\":\"1080\",\"type\":\"BasicTicker\"}},\"id\":\"1083\",\"type\":\"Grid\"},{\"attributes\":{\"axis_label\":\"Epoch\",\"formatter\":{\"id\":\"1043\",\"type\":\"BasicTickFormatter\"},\"plot\":{\"id\":\"1002\",\"subtype\":\"Figure\",\"type\":\"Plot\"},\"ticker\":{\"id\":\"1012\",\"type\":\"BasicTicker\"}},\"id\":\"1011\",\"type\":\"LinearAxis\"},{\"attributes\":{\"items\":[{\"id\":\"1112\",\"type\":\"LegendItem\"}],\"plot\":{\"id\":\"1065\",\"subtype\":\"Figure\",\"type\":\"Plot\"}},\"id\":\"1111\",\"type\":\"Legend\"},{\"attributes\":{},\"id\":\"1024\",\"type\":\"SaveTool\"},{\"attributes\":{\"line_alpha\":0.1,\"line_color\":\"#1f77b4\",\"line_width\":2,\"x\":{\"field\":\"x\"},\"y\":{\"field\":\"y\"}},\"id\":\"1052\",\"type\":\"Line\"},{\"attributes\":{},\"id\":\"1026\",\"type\":\"HelpTool\"},{\"attributes\":{\"label\":{\"value\":\"Acc\"},\"renderers\":[{\"id\":\"1102\",\"type\":\"GlyphRenderer\"}]},\"id\":\"1112\",\"type\":\"LegendItem\"},{\"attributes\":{},\"id\":\"1061\",\"type\":\"Selection\"},{\"attributes\":{\"data_source\":{\"id\":\"1036\",\"type\":\"ColumnDataSource\"},\"glyph\":{\"id\":\"1037\",\"type\":\"Line\"},\"hover_glyph\":null,\"muted_glyph\":null,\"nonselection_glyph\":{\"id\":\"1038\",\"type\":\"Line\"},\"selection_glyph\":null,\"view\":{\"id\":\"1040\",\"type\":\"CDSView\"}},\"id\":\"1039\",\"type\":\"GlyphRenderer\"},{\"attributes\":{},\"id\":\"1062\",\"type\":\"UnionRenderers\"},{\"attributes\":{},\"id\":\"1089\",\"type\":\"HelpTool\"},{\"attributes\":{\"plot\":{\"id\":\"1002\",\"subtype\":\"Figure\",\"type\":\"Plot\"},\"ticker\":{\"id\":\"1012\",\"type\":\"BasicTicker\"}},\"id\":\"1015\",\"type\":\"Grid\"},{\"attributes\":{\"source\":{\"id\":\"1099\",\"type\":\"ColumnDataSource\"}},\"id\":\"1103\",\"type\":\"CDSView\"},{\"attributes\":{\"bottom_units\":\"screen\",\"fill_alpha\":{\"value\":0.5},\"fill_color\":{\"value\":\"lightgrey\"},\"left_units\":\"screen\",\"level\":\"overlay\",\"line_alpha\":{\"value\":1.0},\"line_color\":{\"value\":\"black\"},\"line_dash\":[4,4],\"line_width\":{\"value\":2},\"plot\":null,\"render_mode\":\"css\",\"right_units\":\"screen\",\"top_units\":\"screen\"},\"id\":\"1029\",\"type\":\"BoxAnnotation\"},{\"attributes\":{\"formatter\":{\"id\":\"1045\",\"type\":\"BasicTickFormatter\"},\"plot\":{\"id\":\"1002\",\"subtype\":\"Figure\",\"type\":\"Plot\"},\"ticker\":{\"id\":\"1017\",\"type\":\"BasicTicker\"}},\"id\":\"1016\",\"type\":\"LinearAxis\"},{\"attributes\":{},\"id\":\"1075\",\"type\":\"BasicTicker\"},{\"attributes\":{\"formatter\":{\"id\":\"1108\",\"type\":\"BasicTickFormatter\"},\"plot\":{\"id\":\"1065\",\"subtype\":\"Figure\",\"type\":\"Plot\"},\"ticker\":{\"id\":\"1080\",\"type\":\"BasicTicker\"}},\"id\":\"1079\",\"type\":\"LinearAxis\"},{\"attributes\":{},\"id\":\"1045\",\"type\":\"BasicTickFormatter\"},{\"attributes\":{},\"id\":\"1084\",\"type\":\"PanTool\"},{\"attributes\":{},\"id\":\"1132\",\"type\":\"UnionRenderers\"},{\"attributes\":{},\"id\":\"1017\",\"type\":\"BasicTicker\"},{\"attributes\":{},\"id\":\"1129\",\"type\":\"UnionRenderers\"},{\"attributes\":{\"dimension\":1,\"plot\":{\"id\":\"1002\",\"subtype\":\"Figure\",\"type\":\"Plot\"},\"ticker\":{\"id\":\"1017\",\"type\":\"BasicTicker\"}},\"id\":\"1020\",\"type\":\"Grid\"},{\"attributes\":{\"callback\":null,\"data\":{\"x\":{\"__ndarray__\":\"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\",\"dtype\":\"float64\",\"shape\":[200]},\"y\":{\"__ndarray__\":\"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\",\"dtype\":\"float64\",\"shape\":[200]}},\"selected\":{\"id\":\"1061\",\"type\":\"Selection\"},\"selection_policy\":{\"id\":\"1062\",\"type\":\"UnionRenderers\"}},\"id\":\"1036\",\"type\":\"ColumnDataSource\"},{\"attributes\":{},\"id\":\"1128\",\"type\":\"Selection\"},{\"attributes\":{},\"id\":\"1070\",\"type\":\"LinearScale\"},{\"attributes\":{\"callback\":null,\"data\":{\"x\":{\"__ndarray__\":\"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\",\"dtype\":\"float64\",\"shape\":[200]},\"y\":{\"__ndarray__\":\"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\",\"dtype\":\"float64\",\"shape\":[200]}},\"selected\":{\"id\":\"1128\",\"type\":\"Selection\"},\"selection_policy\":{\"id\":\"1129\",\"type\":\"UnionRenderers\"}},\"id\":\"1050\",\"type\":\"ColumnDataSource\"},{\"attributes\":{\"line_alpha\":0.8,\"line_color\":\"#2b83ba\",\"line_width\":2,\"x\":{\"field\":\"x\"},\"y\":{\"field\":\"y\"}},\"id\":\"1037\",\"type\":\"Line\"},{\"attributes\":{\"line_alpha\":0.1,\"line_color\":\"#1f77b4\",\"line_width\":2,\"x\":{\"field\":\"x\"},\"y\":{\"field\":\"y\"}},\"id\":\"1101\",\"type\":\"Line\"},{\"attributes\":{\"line_alpha\":0.1,\"line_color\":\"#1f77b4\",\"line_width\":2,\"x\":{\"field\":\"x\"},\"y\":{\"field\":\"y\"}},\"id\":\"1038\",\"type\":\"Line\"},{\"attributes\":{},\"id\":\"1087\",\"type\":\"SaveTool\"},{\"attributes\":{\"label\":{\"value\":\"Loss_tr\"},\"renderers\":[{\"id\":\"1039\",\"type\":\"GlyphRenderer\"}]},\"id\":\"1049\",\"type\":\"LegendItem\"},{\"attributes\":{\"line_alpha\":0.8,\"line_color\":\"red\",\"line_width\":2,\"x\":{\"field\":\"x\"},\"y\":{\"field\":\"y\"}},\"id\":\"1100\",\"type\":\"Line\"},{\"attributes\":{},\"id\":\"1131\",\"type\":\"Selection\"},{\"attributes\":{\"plot\":{\"id\":\"1065\",\"subtype\":\"Figure\",\"type\":\"Plot\"},\"ticker\":{\"id\":\"1075\",\"type\":\"BasicTicker\"}},\"id\":\"1078\",\"type\":\"Grid\"},{\"attributes\":{\"data_source\":{\"id\":\"1099\",\"type\":\"ColumnDataSource\"},\"glyph\":{\"id\":\"1100\",\"type\":\"Line\"},\"hover_glyph\":null,\"muted_glyph\":null,\"nonselection_glyph\":{\"id\":\"1101\",\"type\":\"Line\"},\"selection_glyph\":null,\"view\":{\"id\":\"1103\",\"type\":\"CDSView\"}},\"id\":\"1102\",\"type\":\"GlyphRenderer\"},{\"attributes\":{\"source\":{\"id\":\"1036\",\"type\":\"ColumnDataSource\"}},\"id\":\"1040\",\"type\":\"CDSView\"},{\"attributes\":{\"callback\":null,\"data\":{\"x\":{\"__ndarray__\":\"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\",\"dtype\":\"float64\",\"shape\":[200]},\"y\":{\"__ndarray__\":\"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\",\"dtype\":\"float64\",\"shape\":[200]}},\"selected\":{\"id\":\"1131\",\"type\":\"Selection\"},\"selection_policy\":{\"id\":\"1132\",\"type\":\"UnionRenderers\"}},\"id\":\"1099\",\"type\":\"ColumnDataSource\"},{\"attributes\":{\"callback\":null},\"id\":\"1066\",\"type\":\"DataRange1d\"},{\"attributes\":{},\"id\":\"1043\",\"type\":\"BasicTickFormatter\"},{\"attributes\":{\"line_alpha\":0.8,\"line_color\":\"#abdda4\",\"line_width\":2,\"x\":{\"field\":\"x\"},\"y\":{\"field\":\"y\"}},\"id\":\"1051\",\"type\":\"Line\"},{\"attributes\":{\"callback\":null},\"id\":\"1068\",\"type\":\"DataRange1d\"},{\"attributes\":{\"label\":{\"value\":\"Loss_te\"},\"renderers\":[{\"id\":\"1053\",\"type\":\"GlyphRenderer\"}]},\"id\":\"1064\",\"type\":\"LegendItem\"},{\"attributes\":{},\"id\":\"1009\",\"type\":\"LinearScale\"},{\"attributes\":{\"data_source\":{\"id\":\"1050\",\"type\":\"ColumnDataSource\"},\"glyph\":{\"id\":\"1051\",\"type\":\"Line\"},\"hover_glyph\":null,\"muted_glyph\":null,\"nonselection_glyph\":{\"id\":\"1052\",\"type\":\"Line\"},\"selection_glyph\":null,\"view\":{\"id\":\"1054\",\"type\":\"CDSView\"}},\"id\":\"1053\",\"type\":\"GlyphRenderer\"},{\"attributes\":{},\"id\":\"1072\",\"type\":\"LinearScale\"},{\"attributes\":{},\"id\":\"1088\",\"type\":\"ResetTool\"},{\"attributes\":{\"plot\":null,\"text\":\"\"},\"id\":\"1041\",\"type\":\"Title\"},{\"attributes\":{\"overlay\":{\"id\":\"1092\",\"type\":\"BoxAnnotation\"}},\"id\":\"1086\",\"type\":\"BoxZoomTool\"},{\"attributes\":{},\"id\":\"1012\",\"type\":\"BasicTicker\"}],\"root_ids\":[\"1113\"]},\"title\":\"Bokeh Application\",\"version\":\"1.0.1\"}};\n",
       "  var render_items = [{\"docid\":\"80595d5b-cc91-4088-b8fe-ce7a3d10d643\",\"roots\":{\"1113\":\"d9ee77dd-2106-4e72-8831-ce3749a16014\"}}];\n",
       "  root.Bokeh.embed.embed_items_notebook(docs_json, render_items);\n",
       "\n",
       "  }\n",
       "  if (root.Bokeh !== undefined) {\n",
       "    embed_document(root);\n",
       "  } else {\n",
       "    var attempts = 0;\n",
       "    var timer = setInterval(function(root) {\n",
       "      if (root.Bokeh !== undefined) {\n",
       "        embed_document(root);\n",
       "        clearInterval(timer);\n",
       "      }\n",
       "      attempts++;\n",
       "      if (attempts > 100) {\n",
       "        console.log(\"Bokeh: ERROR: Unable to run BokehJS code because BokehJS library is missing\");\n",
       "        clearInterval(timer);\n",
       "      }\n",
       "    }, 10, root)\n",
       "  }\n",
       "})(window);"
      ],
      "application/vnd.bokehjs_exec.v0+json": ""
     },
     "metadata": {
      "application/vnd.bokehjs_exec.v0+json": {
       "id": "1113"
      }
     },
     "output_type": "display_data"
    }
   ],
   "source": [
    "plot_metrics_data(metrics_linear_model)"
   ]
  },
  {
   "cell_type": "code",
   "execution_count": 48,
   "metadata": {
    "tags": [
     "skip"
    ]
   },
   "outputs": [],
   "source": [
    "# Save model weights and metrics\n",
    "model_name = 'ph_model_b'\n",
    "now = datetime.now().strftime('%Y%m%d_%H%M%d')\n",
    "torch.save(ph_model_b.state_dict(), f\"./{model_name}_weights_{now}.pkl\")\n",
    "torch.save(ph_model_b, f\"./{model_name}_model_{now}.pkl\")\n",
    "metrics_linear_model.to_pickle(f\"./{model_name}_metrics_{now}.pkl\")"
   ]
  },
  {
   "cell_type": "markdown",
   "metadata": {},
   "source": [
    "Load training and testing date into tensors to train convolutional network"
   ]
  },
  {
   "cell_type": "code",
   "execution_count": 28,
   "metadata": {
    "tags": [
     "block:conv1",
     "block:conv2",
     "prev:datasets"
    ]
   },
   "outputs": [],
   "source": [
    "bbch_tr_0 = bbch_data[np.argwhere(bbch_data_b == 0).reshape(-1,)] / 25.\n",
    "bbch_tr_0 = torch.from_numpy(bbch_tr_0).type(torch.FloatTensor).to(device)\n",
    "bbch_te_0 = bbch_data_te[np.argwhere(bbch_data_te_b == 0).reshape(-1,)] / 25.\n",
    "bbch_te_0 = Variable(torch.from_numpy(bbch_te_0).type(torch.FloatTensor)).to(device)\n",
    "\n",
    "bbch_tr_1 = (bbch_data[np.argwhere(bbch_data_b == 1).reshape(-1,)] - 53) / (99. - 53.)\n",
    "bbch_tr_1 = torch.from_numpy(bbch_tr_1).type(torch.FloatTensor).to(device)\n",
    "bbch_te_1 = (bbch_data_te[np.argwhere(bbch_data_te_b == 1).reshape(-1,)] - 53) / (99. - 53.)\n",
    "bbch_te_1 = Variable(torch.from_numpy(bbch_te_1).type(torch.FloatTensor)).to(device)\n",
    "\n",
    "configs_tr_0 = torch.from_numpy(temps_data[np.argwhere(bbch_data_b == 0).reshape(-1,)].reshape(-1, 1, DAYS_IN_YEAR)).type(torch.FloatTensor).to(device)\n",
    "configs_te_0 = Variable(torch.from_numpy(temps_data_te[np.argwhere(bbch_data_te_b == 0).reshape(-1,)].reshape(-1, 1, DAYS_IN_YEAR)).type(torch.FloatTensor)).to(device)\n",
    "\n",
    "configs_tr_1 = torch.from_numpy(temps_data[np.argwhere(bbch_data_b == 1).reshape(-1,)].reshape(-1, 1, DAYS_IN_YEAR)).type(torch.FloatTensor).to(device)\n",
    "configs_te_1 = Variable(torch.from_numpy(temps_data_te[np.argwhere(bbch_data_te_b == 1).reshape(-1,)].reshape(-1, 1, DAYS_IN_YEAR)).type(torch.FloatTensor)).to(device)"
   ]
  },
  {
   "cell_type": "code",
   "execution_count": 29,
   "metadata": {
    "tags": [
     "block:conv1",
     "block:conv2"
    ]
   },
   "outputs": [],
   "source": [
    "training_samples_0 = utils_data.TensorDataset(configs_tr_0, bbch_tr_0)\n",
    "data_loader_tr_0 = utils_data.DataLoader(training_samples_0, batch_size=BATCH_SIZE, shuffle=True)\n",
    "\n",
    "training_samples_1 = utils_data.TensorDataset(configs_tr_1, bbch_tr_1)\n",
    "data_loader_tr_1 = utils_data.DataLoader(training_samples_1, batch_size=BATCH_SIZE, shuffle=True)"
   ]
  },
  {
   "cell_type": "markdown",
   "metadata": {},
   "source": [
    "#### PhiloConv Net"
   ]
  },
  {
   "cell_type": "code",
   "execution_count": 30,
   "metadata": {
    "tags": [
     "block:functions"
    ]
   },
   "outputs": [],
   "source": [
    "class pheno_model(nn.Module):\n",
    "    def __init__(self, n_channs=[4, 2], ksizes=[5, 3], strides=[3, 2], input_size=DAYS_IN_YEAR):\n",
    "        # super(pheno_model, self).__init__()\n",
    "        nn.Module.__init__(self)\n",
    "\n",
    "        \n",
    "        self.ksizes = ksizes\n",
    "        self.strides = strides\n",
    "        self.outs = input_size\n",
    "        \n",
    "        for i in range(len(n_channs)):\n",
    "            self.outs = int((self.outs - (self.ksizes[i] - 1) - 1) / self.strides[i] + 1)\n",
    "        \n",
    "        self.num_convs = len(n_channs)\n",
    "        self.n_channels = [0]*(self.num_convs + 1)\n",
    "\n",
    "        self.n_channels[0] = 1\n",
    "        for i in range(1, self.num_convs + 1):\n",
    "            self.n_channels[i] = n_channs[i-1]\n",
    "        \n",
    "        self.conv_enc = nn.ModuleList()\n",
    "\n",
    "        for i in range(self.num_convs-1):\n",
    "            self.conv_enc  += [nn.Conv1d(self.n_channels[i], self.n_channels[i+1], self.ksizes[i], stride=self.strides[i], bias=False)]\n",
    "            self.conv_enc  += [nn.Sigmoid()]\n",
    "                \n",
    "        self.conv_enc += [nn.Conv1d(self.n_channels[self.num_convs - 1], self.n_channels[self.num_convs], self.ksizes[self.num_convs - 1], stride=self.strides[self.num_convs - 1], bias=False)]\n",
    "        self.lin_enc = nn.Sequential(nn.Linear(self.outs * self.n_channels[self.num_convs], 1),\n",
    "                                    nn.Sigmoid())\n",
    "\n",
    "    def forward(self, x):\n",
    "        for i in range(len(self.conv_enc)):\n",
    "            x = self.conv_enc[i](x)\n",
    "\n",
    "        x = x.view(-1, self.outs * self.n_channels[self.num_convs])\n",
    "        x = F.dropout(x, p=0.5)\n",
    "        x = self.lin_enc(x)\n",
    "\n",
    "        return x"
   ]
  },
  {
   "cell_type": "code",
   "execution_count": 31,
   "metadata": {
    "tags": [
     "block:conv1"
    ]
   },
   "outputs": [],
   "source": [
    "ph_model_0 = pheno_model(n_channs=[4, 2, 1, 1], ksizes=[5, 5, 5, 3], strides=[3, 3, 3, 2]).to(device)"
   ]
  },
  {
   "cell_type": "code",
   "execution_count": 32,
   "metadata": {
    "tags": [
     "skip"
    ]
   },
   "outputs": [
    {
     "name": "stdout",
     "output_type": "stream",
     "text": [
      "79\n"
     ]
    }
   ],
   "source": [
    "num_params = 0\n",
    "for parameter in ph_model_0.parameters():\n",
    "    prodp = 1\n",
    "    for el in parameter.size():\n",
    "        prodp *= el\n",
    "    num_params += prodp\n",
    "print(num_params)"
   ]
  },
  {
   "cell_type": "code",
   "execution_count": 33,
   "metadata": {
    "tags": [
     "skip"
    ]
   },
   "outputs": [
    {
     "name": "stdout",
     "output_type": "stream",
     "text": [
      "pheno_model(\n",
      "  (conv_enc): ModuleList(\n",
      "    (0): Conv1d(1, 4, kernel_size=(5,), stride=(3,), bias=False)\n",
      "    (1): Sigmoid()\n",
      "    (2): Conv1d(4, 2, kernel_size=(5,), stride=(3,), bias=False)\n",
      "    (3): Sigmoid()\n",
      "    (4): Conv1d(2, 1, kernel_size=(5,), stride=(3,), bias=False)\n",
      "    (5): Sigmoid()\n",
      "    (6): Conv1d(1, 1, kernel_size=(3,), stride=(2,), bias=False)\n",
      "  )\n",
      "  (lin_enc): Sequential(\n",
      "    (0): Linear(in_features=5, out_features=1, bias=True)\n",
      "    (1): Sigmoid()\n",
      "  )\n",
      ")\n"
     ]
    }
   ],
   "source": [
    "print(ph_model_0)"
   ]
  },
  {
   "cell_type": "markdown",
   "metadata": {},
   "source": [
    "**Train and plot results for PhiloConv**"
   ]
  },
  {
   "cell_type": "code",
   "execution_count": 34,
   "metadata": {
    "tags": [
     "block:conv1"
    ]
   },
   "outputs": [
    {
     "name": "stderr",
     "output_type": "stream",
     "text": [
      "Epoch 999:  90%|█████████ | 90/100 [01:52<00:04,  2.20it/s, Loss_tr=0.00701]\n"
     ]
    }
   ],
   "source": [
    "# Init a dataframe to store the training metrics\n",
    "metrics_conv_model_0 = pd.DataFrame(columns=metrics_conv_columns)\n",
    "\n",
    "loss_f = nn.MSELoss()\n",
    "optimizer = torch.optim.Adam(ph_model_0.parameters(), lr=0.001)\n",
    "num_epochs = 5\n",
    "\n",
    "with tqdm(total=100) as pbar:\n",
    "    for epoch in range(num_epochs):\n",
    "        pbar.n = 0\n",
    "        pbar.refresh()\n",
    "        loss_mean = 0.\n",
    "        pbar.set_description('Epoch %d' % epoch )\n",
    "\n",
    "        for i, (confs, bbch) in enumerate(data_loader_tr_0):\n",
    "            confs_tmp = Variable(confs)\n",
    "            bbch_tmp = Variable(bbch.type(torch.FloatTensor)).to(device)\n",
    "\n",
    "            optimizer.zero_grad() # zero the gradient buffer\n",
    "            outputs = ph_model_0(confs_tmp)\n",
    "            loss = loss_f(outputs.reshape(-1,), bbch_tmp)\n",
    "\n",
    "            loss.backward()\n",
    "            optimizer.step()\n",
    "            loss_mean = (loss_mean * i + loss.item()) / (i + 1)\n",
    "            if ((i+1) % (configs_tr_0.size(0) // 10 // BATCH_SIZE)) == 0:\n",
    "                pbar.set_postfix(Loss_tr = loss_mean)\n",
    "                pbar.update(10)\n",
    "\n",
    "        outputs = ph_model_0(configs_te_0)\n",
    "        loss_te = loss_f(outputs.reshape(-1,), bbch_te_0)\n",
    "\n",
    "#         pbar.set_postfix(Loss_te = loss_te.item(), Loss_tr = loss_mean)\n",
    "        metrics_conv_model_0 = metrics_conv_model_0.append(pd.Series([epoch, loss_te.item(), loss_mean], index=metrics_conv_columns), ignore_index=True)\n",
    "        pbar.update()    "
   ]
  },
  {
   "cell_type": "code",
   "execution_count": 36,
   "metadata": {
    "tags": [
     "skip"
    ]
   },
   "outputs": [
    {
     "data": {
      "text/html": [
       "\n",
       "\n",
       "\n",
       "\n",
       "\n",
       "\n",
       "  <div class=\"bk-root\" id=\"15664b91-bc05-404d-9074-9411fcc5bdaa\"></div>\n"
      ]
     },
     "metadata": {},
     "output_type": "display_data"
    },
    {
     "data": {
      "application/javascript": [
       "(function(root) {\n",
       "  function embed_document(root) {\n",
       "    \n",
       "  var docs_json = {\"9682b572-7f33-4e84-ba27-a2baa6c664e1\":{\"roots\":{\"references\":[{\"attributes\":{\"below\":[{\"id\":\"1264\",\"type\":\"LinearAxis\"}],\"left\":[{\"id\":\"1269\",\"type\":\"LinearAxis\"}],\"plot_height\":250,\"plot_width\":800,\"renderers\":[{\"id\":\"1264\",\"type\":\"LinearAxis\"},{\"id\":\"1268\",\"type\":\"Grid\"},{\"id\":\"1269\",\"type\":\"LinearAxis\"},{\"id\":\"1273\",\"type\":\"Grid\"},{\"id\":\"1282\",\"type\":\"BoxAnnotation\"},{\"id\":\"1301\",\"type\":\"Legend\"},{\"id\":\"1292\",\"type\":\"GlyphRenderer\"},{\"id\":\"1306\",\"type\":\"GlyphRenderer\"}],\"title\":{\"id\":\"1294\",\"type\":\"Title\"},\"toolbar\":{\"id\":\"1280\",\"type\":\"Toolbar\"},\"x_range\":{\"id\":\"1256\",\"type\":\"DataRange1d\"},\"x_scale\":{\"id\":\"1260\",\"type\":\"LinearScale\"},\"y_range\":{\"id\":\"1258\",\"type\":\"DataRange1d\"},\"y_scale\":{\"id\":\"1262\",\"type\":\"LinearScale\"}},\"id\":\"1255\",\"subtype\":\"Figure\",\"type\":\"Plot\"},{\"attributes\":{\"overlay\":{\"id\":\"1282\",\"type\":\"BoxAnnotation\"}},\"id\":\"1276\",\"type\":\"BoxZoomTool\"},{\"attributes\":{\"formatter\":{\"id\":\"1298\",\"type\":\"BasicTickFormatter\"},\"plot\":{\"id\":\"1255\",\"subtype\":\"Figure\",\"type\":\"Plot\"},\"ticker\":{\"id\":\"1270\",\"type\":\"BasicTicker\"}},\"id\":\"1269\",\"type\":\"LinearAxis\"},{\"attributes\":{\"plot\":{\"id\":\"1255\",\"subtype\":\"Figure\",\"type\":\"Plot\"},\"ticker\":{\"id\":\"1265\",\"type\":\"BasicTicker\"}},\"id\":\"1268\",\"type\":\"Grid\"},{\"attributes\":{},\"id\":\"1274\",\"type\":\"PanTool\"},{\"attributes\":{},\"id\":\"1278\",\"type\":\"ResetTool\"},{\"attributes\":{},\"id\":\"1279\",\"type\":\"HelpTool\"},{\"attributes\":{},\"id\":\"1265\",\"type\":\"BasicTicker\"},{\"attributes\":{\"callback\":null,\"data\":{\"x\":{\"__ndarray__\":\"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\",\"dtype\":\"float64\",\"shape\":[1000]},\"y\":{\"__ndarray__\":\"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\",\"dtype\":\"float64\",\"shape\":[1000]}},\"selected\":{\"id\":\"1314\",\"type\":\"Selection\"},\"selection_policy\":{\"id\":\"1315\",\"type\":\"UnionRenderers\"}},\"id\":\"1289\",\"type\":\"ColumnDataSource\"},{\"attributes\":{\"callback\":null},\"id\":\"1258\",\"type\":\"DataRange1d\"},{\"attributes\":{\"axis_label\":\"Epoch\",\"formatter\":{\"id\":\"1296\",\"type\":\"BasicTickFormatter\"},\"plot\":{\"id\":\"1255\",\"subtype\":\"Figure\",\"type\":\"Plot\"},\"ticker\":{\"id\":\"1265\",\"type\":\"BasicTicker\"}},\"id\":\"1264\",\"type\":\"LinearAxis\"},{\"attributes\":{},\"id\":\"1296\",\"type\":\"BasicTickFormatter\"},{\"attributes\":{},\"id\":\"1260\",\"type\":\"LinearScale\"},{\"attributes\":{},\"id\":\"1270\",\"type\":\"BasicTicker\"},{\"attributes\":{},\"id\":\"1298\",\"type\":\"BasicTickFormatter\"},{\"attributes\":{\"line_alpha\":0.8,\"line_color\":\"#2b83ba\",\"line_width\":2,\"x\":{\"field\":\"x\"},\"y\":{\"field\":\"y\"}},\"id\":\"1290\",\"type\":\"Line\"},{\"attributes\":{\"items\":[{\"id\":\"1302\",\"type\":\"LegendItem\"},{\"id\":\"1317\",\"type\":\"LegendItem\"}],\"plot\":{\"id\":\"1255\",\"subtype\":\"Figure\",\"type\":\"Plot\"}},\"id\":\"1301\",\"type\":\"Legend\"},{\"attributes\":{},\"id\":\"1277\",\"type\":\"SaveTool\"},{\"attributes\":{\"line_alpha\":0.1,\"line_color\":\"#1f77b4\",\"line_width\":2,\"x\":{\"field\":\"x\"},\"y\":{\"field\":\"y\"}},\"id\":\"1305\",\"type\":\"Line\"},{\"attributes\":{},\"id\":\"1275\",\"type\":\"WheelZoomTool\"},{\"attributes\":{\"label\":{\"value\":\"Loss_tr\"},\"renderers\":[{\"id\":\"1292\",\"type\":\"GlyphRenderer\"}]},\"id\":\"1302\",\"type\":\"LegendItem\"},{\"attributes\":{\"dimension\":1,\"plot\":{\"id\":\"1255\",\"subtype\":\"Figure\",\"type\":\"Plot\"},\"ticker\":{\"id\":\"1270\",\"type\":\"BasicTicker\"}},\"id\":\"1273\",\"type\":\"Grid\"},{\"attributes\":{\"callback\":null,\"data\":{\"x\":{\"__ndarray__\":\"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\",\"dtype\":\"float64\",\"shape\":[1000]},\"y\":{\"__ndarray__\":\"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\",\"dtype\":\"float64\",\"shape\":[1000]}},\"selected\":{\"id\":\"1346\",\"type\":\"Selection\"},\"selection_policy\":{\"id\":\"1347\",\"type\":\"UnionRenderers\"}},\"id\":\"1303\",\"type\":\"ColumnDataSource\"},{\"attributes\":{\"active_drag\":\"auto\",\"active_inspect\":\"auto\",\"active_multi\":null,\"active_scroll\":\"auto\",\"active_tap\":\"auto\",\"tools\":[{\"id\":\"1274\",\"type\":\"PanTool\"},{\"id\":\"1275\",\"type\":\"WheelZoomTool\"},{\"id\":\"1276\",\"type\":\"BoxZoomTool\"},{\"id\":\"1277\",\"type\":\"SaveTool\"},{\"id\":\"1278\",\"type\":\"ResetTool\"},{\"id\":\"1279\",\"type\":\"HelpTool\"}]},\"id\":\"1280\",\"type\":\"Toolbar\"},{\"attributes\":{\"source\":{\"id\":\"1289\",\"type\":\"ColumnDataSource\"}},\"id\":\"1293\",\"type\":\"CDSView\"},{\"attributes\":{\"line_alpha\":0.8,\"line_color\":\"#abdda4\",\"line_width\":2,\"x\":{\"field\":\"x\"},\"y\":{\"field\":\"y\"}},\"id\":\"1304\",\"type\":\"Line\"},{\"attributes\":{\"plot\":null,\"text\":\"\"},\"id\":\"1294\",\"type\":\"Title\"},{\"attributes\":{\"label\":{\"value\":\"Loss_te\"},\"renderers\":[{\"id\":\"1306\",\"type\":\"GlyphRenderer\"}]},\"id\":\"1317\",\"type\":\"LegendItem\"},{\"attributes\":{\"bottom_units\":\"screen\",\"fill_alpha\":{\"value\":0.5},\"fill_color\":{\"value\":\"lightgrey\"},\"left_units\":\"screen\",\"level\":\"overlay\",\"line_alpha\":{\"value\":1.0},\"line_color\":{\"value\":\"black\"},\"line_dash\":[4,4],\"line_width\":{\"value\":2},\"plot\":null,\"render_mode\":\"css\",\"right_units\":\"screen\",\"top_units\":\"screen\"},\"id\":\"1282\",\"type\":\"BoxAnnotation\"},{\"attributes\":{\"data_source\":{\"id\":\"1303\",\"type\":\"ColumnDataSource\"},\"glyph\":{\"id\":\"1304\",\"type\":\"Line\"},\"hover_glyph\":null,\"muted_glyph\":null,\"nonselection_glyph\":{\"id\":\"1305\",\"type\":\"Line\"},\"selection_glyph\":null,\"view\":{\"id\":\"1307\",\"type\":\"CDSView\"}},\"id\":\"1306\",\"type\":\"GlyphRenderer\"},{\"attributes\":{\"line_alpha\":0.1,\"line_color\":\"#1f77b4\",\"line_width\":2,\"x\":{\"field\":\"x\"},\"y\":{\"field\":\"y\"}},\"id\":\"1291\",\"type\":\"Line\"},{\"attributes\":{},\"id\":\"1347\",\"type\":\"UnionRenderers\"},{\"attributes\":{},\"id\":\"1315\",\"type\":\"UnionRenderers\"},{\"attributes\":{},\"id\":\"1262\",\"type\":\"LinearScale\"},{\"attributes\":{\"callback\":null},\"id\":\"1256\",\"type\":\"DataRange1d\"},{\"attributes\":{\"data_source\":{\"id\":\"1289\",\"type\":\"ColumnDataSource\"},\"glyph\":{\"id\":\"1290\",\"type\":\"Line\"},\"hover_glyph\":null,\"muted_glyph\":null,\"nonselection_glyph\":{\"id\":\"1291\",\"type\":\"Line\"},\"selection_glyph\":null,\"view\":{\"id\":\"1293\",\"type\":\"CDSView\"}},\"id\":\"1292\",\"type\":\"GlyphRenderer\"},{\"attributes\":{},\"id\":\"1314\",\"type\":\"Selection\"},{\"attributes\":{},\"id\":\"1346\",\"type\":\"Selection\"},{\"attributes\":{\"source\":{\"id\":\"1303\",\"type\":\"ColumnDataSource\"}},\"id\":\"1307\",\"type\":\"CDSView\"}],\"root_ids\":[\"1255\"]},\"title\":\"Bokeh Application\",\"version\":\"1.0.1\"}};\n",
       "  var render_items = [{\"docid\":\"9682b572-7f33-4e84-ba27-a2baa6c664e1\",\"roots\":{\"1255\":\"15664b91-bc05-404d-9074-9411fcc5bdaa\"}}];\n",
       "  root.Bokeh.embed.embed_items_notebook(docs_json, render_items);\n",
       "\n",
       "  }\n",
       "  if (root.Bokeh !== undefined) {\n",
       "    embed_document(root);\n",
       "  } else {\n",
       "    var attempts = 0;\n",
       "    var timer = setInterval(function(root) {\n",
       "      if (root.Bokeh !== undefined) {\n",
       "        embed_document(root);\n",
       "        clearInterval(timer);\n",
       "      }\n",
       "      attempts++;\n",
       "      if (attempts > 100) {\n",
       "        console.log(\"Bokeh: ERROR: Unable to run BokehJS code because BokehJS library is missing\");\n",
       "        clearInterval(timer);\n",
       "      }\n",
       "    }, 10, root)\n",
       "  }\n",
       "})(window);"
      ],
      "application/vnd.bokehjs_exec.v0+json": ""
     },
     "metadata": {
      "application/vnd.bokehjs_exec.v0+json": {
       "id": "1255"
      }
     },
     "output_type": "display_data"
    }
   ],
   "source": [
    "plot_metrics_data(metrics_conv_model_0)"
   ]
  },
  {
   "cell_type": "code",
   "execution_count": 49,
   "metadata": {
    "tags": [
     "skip"
    ]
   },
   "outputs": [],
   "source": [
    "# Save model weights and metrics\n",
    "model_name = 'ph_model_0'\n",
    "now = datetime.now().strftime('%Y%m%d_%H%M%d')\n",
    "torch.save(ph_model_0.state_dict(), f\"./{model_name}_weights_{now}.pkl\")\n",
    "torch.save(ph_model_0, f\"./{model_name}_model_{now}.pkl\")\n",
    "metrics_conv_model_0.to_pickle(f\"./{model_name}_metrics_{now}.pkl\")"
   ]
  },
  {
   "cell_type": "code",
   "execution_count": 39,
   "metadata": {
    "tags": [
     "block:conv2"
    ]
   },
   "outputs": [],
   "source": [
    "ph_model_1 = pheno_model().to(device)"
   ]
  },
  {
   "cell_type": "code",
   "execution_count": 40,
   "metadata": {
    "tags": [
     "block:conv2"
    ]
   },
   "outputs": [
    {
     "name": "stderr",
     "output_type": "stream",
     "text": [
      "Epoch 999:  90%|█████████ | 90/100 [04:02<00:04,  2.02it/s, Loss_tr=0.00147]\n"
     ]
    }
   ],
   "source": [
    "# Init a dataframe to store the training metrics\n",
    "\n",
    "metrics_conv_model_1 = pd.DataFrame(columns=metrics_conv_columns)\n",
    "\n",
    "loss_f = nn.MSELoss()\n",
    "#for lr in [0.0001, 0.00001]:\n",
    "optimizer = torch.optim.Adam(ph_model_1.parameters(), lr=0.001)\n",
    "num_epochs = 5\n",
    "\n",
    "with tqdm(total=100) as pbar:\n",
    "    for epoch in range(num_epochs):\n",
    "        pbar.n = 0\n",
    "        pbar.refresh()\n",
    "        loss_mean = 0.\n",
    "\n",
    "        pbar.set_description('Epoch %d' % epoch )\n",
    "\n",
    "        for i, (confs, bbch) in enumerate(data_loader_tr_1):\n",
    "            confs_tmp = Variable(confs)\n",
    "            bbch_tmp = Variable(bbch.type(torch.FloatTensor)).to(device)\n",
    "\n",
    "            optimizer.zero_grad() # zero the gradient buffer\n",
    "            outputs = ph_model_1(confs_tmp)\n",
    "            loss = loss_f(outputs.reshape(-1,), bbch_tmp)\n",
    "\n",
    "            loss.backward()\n",
    "            optimizer.step()\n",
    "            loss_mean = (loss_mean * i + loss.item()) / (i + 1)\n",
    "            if ((i+1) % (configs_tr_1.size(0) // 10 // BATCH_SIZE)) == 0:\n",
    "                pbar.set_postfix(Loss_tr = loss_mean)\n",
    "                pbar.update(10)\n",
    "\n",
    "        outputs = ph_model_1(configs_te_1)\n",
    "        loss_te = loss_f(outputs.reshape(-1,), bbch_te_1)\n",
    "\n",
    "#         pbar.set_postfix(Loss_te = loss_te.data[0], Loss_tr = loss_mean)\n",
    "        metrics_conv_model_1 = metrics_conv_model_1.append(pd.Series([epoch, loss_te.item(), loss_mean], index=metrics_conv_columns), ignore_index=True)\n",
    "        pbar.update()"
   ]
  },
  {
   "cell_type": "code",
   "execution_count": 41,
   "metadata": {
    "tags": [
     "skip"
    ]
   },
   "outputs": [
    {
     "data": {
      "text/html": [
       "\n",
       "\n",
       "\n",
       "\n",
       "\n",
       "\n",
       "  <div class=\"bk-root\" id=\"e513cc2e-29b5-42ea-9326-e7a54011f1c2\"></div>\n"
      ]
     },
     "metadata": {},
     "output_type": "display_data"
    },
    {
     "data": {
      "application/javascript": [
       "(function(root) {\n",
       "  function embed_document(root) {\n",
       "    \n",
       "  var docs_json = {\"03d85e7f-54fa-481e-9a29-275890cba20e\":{\"roots\":{\"references\":[{\"attributes\":{\"below\":[{\"id\":\"1424\",\"type\":\"LinearAxis\"}],\"left\":[{\"id\":\"1429\",\"type\":\"LinearAxis\"}],\"plot_height\":250,\"plot_width\":800,\"renderers\":[{\"id\":\"1424\",\"type\":\"LinearAxis\"},{\"id\":\"1428\",\"type\":\"Grid\"},{\"id\":\"1429\",\"type\":\"LinearAxis\"},{\"id\":\"1433\",\"type\":\"Grid\"},{\"id\":\"1442\",\"type\":\"BoxAnnotation\"},{\"id\":\"1461\",\"type\":\"Legend\"},{\"id\":\"1452\",\"type\":\"GlyphRenderer\"},{\"id\":\"1466\",\"type\":\"GlyphRenderer\"}],\"title\":{\"id\":\"1454\",\"type\":\"Title\"},\"toolbar\":{\"id\":\"1440\",\"type\":\"Toolbar\"},\"x_range\":{\"id\":\"1416\",\"type\":\"DataRange1d\"},\"x_scale\":{\"id\":\"1420\",\"type\":\"LinearScale\"},\"y_range\":{\"id\":\"1418\",\"type\":\"DataRange1d\"},\"y_scale\":{\"id\":\"1422\",\"type\":\"LinearScale\"}},\"id\":\"1415\",\"subtype\":\"Figure\",\"type\":\"Plot\"},{\"attributes\":{\"label\":{\"value\":\"Loss_te\"},\"renderers\":[{\"id\":\"1466\",\"type\":\"GlyphRenderer\"}]},\"id\":\"1477\",\"type\":\"LegendItem\"},{\"attributes\":{\"line_alpha\":0.8,\"line_color\":\"#abdda4\",\"line_width\":2,\"x\":{\"field\":\"x\"},\"y\":{\"field\":\"y\"}},\"id\":\"1464\",\"type\":\"Line\"},{\"attributes\":{\"items\":[{\"id\":\"1462\",\"type\":\"LegendItem\"},{\"id\":\"1477\",\"type\":\"LegendItem\"}],\"plot\":{\"id\":\"1415\",\"subtype\":\"Figure\",\"type\":\"Plot\"}},\"id\":\"1461\",\"type\":\"Legend\"},{\"attributes\":{\"plot\":null,\"text\":\"\"},\"id\":\"1454\",\"type\":\"Title\"},{\"attributes\":{\"data_source\":{\"id\":\"1463\",\"type\":\"ColumnDataSource\"},\"glyph\":{\"id\":\"1464\",\"type\":\"Line\"},\"hover_glyph\":null,\"muted_glyph\":null,\"nonselection_glyph\":{\"id\":\"1465\",\"type\":\"Line\"},\"selection_glyph\":null,\"view\":{\"id\":\"1467\",\"type\":\"CDSView\"}},\"id\":\"1466\",\"type\":\"GlyphRenderer\"},{\"attributes\":{},\"id\":\"1438\",\"type\":\"ResetTool\"},{\"attributes\":{},\"id\":\"1439\",\"type\":\"HelpTool\"},{\"attributes\":{\"axis_label\":\"Epoch\",\"formatter\":{\"id\":\"1456\",\"type\":\"BasicTickFormatter\"},\"plot\":{\"id\":\"1415\",\"subtype\":\"Figure\",\"type\":\"Plot\"},\"ticker\":{\"id\":\"1425\",\"type\":\"BasicTicker\"}},\"id\":\"1424\",\"type\":\"LinearAxis\"},{\"attributes\":{\"line_alpha\":0.1,\"line_color\":\"#1f77b4\",\"line_width\":2,\"x\":{\"field\":\"x\"},\"y\":{\"field\":\"y\"}},\"id\":\"1465\",\"type\":\"Line\"},{\"attributes\":{\"source\":{\"id\":\"1463\",\"type\":\"ColumnDataSource\"}},\"id\":\"1467\",\"type\":\"CDSView\"},{\"attributes\":{},\"id\":\"1434\",\"type\":\"PanTool\"},{\"attributes\":{\"bottom_units\":\"screen\",\"fill_alpha\":{\"value\":0.5},\"fill_color\":{\"value\":\"lightgrey\"},\"left_units\":\"screen\",\"level\":\"overlay\",\"line_alpha\":{\"value\":1.0},\"line_color\":{\"value\":\"black\"},\"line_dash\":[4,4],\"line_width\":{\"value\":2},\"plot\":null,\"render_mode\":\"css\",\"right_units\":\"screen\",\"top_units\":\"screen\"},\"id\":\"1442\",\"type\":\"BoxAnnotation\"},{\"attributes\":{},\"id\":\"1437\",\"type\":\"SaveTool\"},{\"attributes\":{},\"id\":\"1518\",\"type\":\"UnionRenderers\"},{\"attributes\":{\"line_alpha\":0.1,\"line_color\":\"#1f77b4\",\"line_width\":2,\"x\":{\"field\":\"x\"},\"y\":{\"field\":\"y\"}},\"id\":\"1451\",\"type\":\"Line\"},{\"attributes\":{\"line_alpha\":0.8,\"line_color\":\"#2b83ba\",\"line_width\":2,\"x\":{\"field\":\"x\"},\"y\":{\"field\":\"y\"}},\"id\":\"1450\",\"type\":\"Line\"},{\"attributes\":{},\"id\":\"1456\",\"type\":\"BasicTickFormatter\"},{\"attributes\":{},\"id\":\"1517\",\"type\":\"Selection\"},{\"attributes\":{},\"id\":\"1422\",\"type\":\"LinearScale\"},{\"attributes\":{\"active_drag\":\"auto\",\"active_inspect\":\"auto\",\"active_multi\":null,\"active_scroll\":\"auto\",\"active_tap\":\"auto\",\"tools\":[{\"id\":\"1434\",\"type\":\"PanTool\"},{\"id\":\"1435\",\"type\":\"WheelZoomTool\"},{\"id\":\"1436\",\"type\":\"BoxZoomTool\"},{\"id\":\"1437\",\"type\":\"SaveTool\"},{\"id\":\"1438\",\"type\":\"ResetTool\"},{\"id\":\"1439\",\"type\":\"HelpTool\"}]},\"id\":\"1440\",\"type\":\"Toolbar\"},{\"attributes\":{\"callback\":null,\"data\":{\"x\":{\"__ndarray__\":\"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\",\"dtype\":\"float64\",\"shape\":[1000]},\"y\":{\"__ndarray__\":\"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\",\"dtype\":\"float64\",\"shape\":[1000]}},\"selected\":{\"id\":\"1474\",\"type\":\"Selection\"},\"selection_policy\":{\"id\":\"1475\",\"type\":\"UnionRenderers\"}},\"id\":\"1449\",\"type\":\"ColumnDataSource\"},{\"attributes\":{},\"id\":\"1430\",\"type\":\"BasicTicker\"},{\"attributes\":{\"formatter\":{\"id\":\"1458\",\"type\":\"BasicTickFormatter\"},\"plot\":{\"id\":\"1415\",\"subtype\":\"Figure\",\"type\":\"Plot\"},\"ticker\":{\"id\":\"1430\",\"type\":\"BasicTicker\"}},\"id\":\"1429\",\"type\":\"LinearAxis\"},{\"attributes\":{},\"id\":\"1425\",\"type\":\"BasicTicker\"},{\"attributes\":{\"callback\":null,\"data\":{\"x\":{\"__ndarray__\":\"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\",\"dtype\":\"float64\",\"shape\":[1000]},\"y\":{\"__ndarray__\":\"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\",\"dtype\":\"float64\",\"shape\":[1000]}},\"selected\":{\"id\":\"1517\",\"type\":\"Selection\"},\"selection_policy\":{\"id\":\"1518\",\"type\":\"UnionRenderers\"}},\"id\":\"1463\",\"type\":\"ColumnDataSource\"},{\"attributes\":{\"overlay\":{\"id\":\"1442\",\"type\":\"BoxAnnotation\"}},\"id\":\"1436\",\"type\":\"BoxZoomTool\"},{\"attributes\":{},\"id\":\"1474\",\"type\":\"Selection\"},{\"attributes\":{},\"id\":\"1420\",\"type\":\"LinearScale\"},{\"attributes\":{\"callback\":null},\"id\":\"1416\",\"type\":\"DataRange1d\"},{\"attributes\":{\"data_source\":{\"id\":\"1449\",\"type\":\"ColumnDataSource\"},\"glyph\":{\"id\":\"1450\",\"type\":\"Line\"},\"hover_glyph\":null,\"muted_glyph\":null,\"nonselection_glyph\":{\"id\":\"1451\",\"type\":\"Line\"},\"selection_glyph\":null,\"view\":{\"id\":\"1453\",\"type\":\"CDSView\"}},\"id\":\"1452\",\"type\":\"GlyphRenderer\"},{\"attributes\":{\"plot\":{\"id\":\"1415\",\"subtype\":\"Figure\",\"type\":\"Plot\"},\"ticker\":{\"id\":\"1425\",\"type\":\"BasicTicker\"}},\"id\":\"1428\",\"type\":\"Grid\"},{\"attributes\":{},\"id\":\"1435\",\"type\":\"WheelZoomTool\"},{\"attributes\":{},\"id\":\"1475\",\"type\":\"UnionRenderers\"},{\"attributes\":{},\"id\":\"1458\",\"type\":\"BasicTickFormatter\"},{\"attributes\":{\"callback\":null},\"id\":\"1418\",\"type\":\"DataRange1d\"},{\"attributes\":{\"label\":{\"value\":\"Loss_tr\"},\"renderers\":[{\"id\":\"1452\",\"type\":\"GlyphRenderer\"}]},\"id\":\"1462\",\"type\":\"LegendItem\"},{\"attributes\":{\"dimension\":1,\"plot\":{\"id\":\"1415\",\"subtype\":\"Figure\",\"type\":\"Plot\"},\"ticker\":{\"id\":\"1430\",\"type\":\"BasicTicker\"}},\"id\":\"1433\",\"type\":\"Grid\"},{\"attributes\":{\"source\":{\"id\":\"1449\",\"type\":\"ColumnDataSource\"}},\"id\":\"1453\",\"type\":\"CDSView\"}],\"root_ids\":[\"1415\"]},\"title\":\"Bokeh Application\",\"version\":\"1.0.1\"}};\n",
       "  var render_items = [{\"docid\":\"03d85e7f-54fa-481e-9a29-275890cba20e\",\"roots\":{\"1415\":\"e513cc2e-29b5-42ea-9326-e7a54011f1c2\"}}];\n",
       "  root.Bokeh.embed.embed_items_notebook(docs_json, render_items);\n",
       "\n",
       "  }\n",
       "  if (root.Bokeh !== undefined) {\n",
       "    embed_document(root);\n",
       "  } else {\n",
       "    var attempts = 0;\n",
       "    var timer = setInterval(function(root) {\n",
       "      if (root.Bokeh !== undefined) {\n",
       "        embed_document(root);\n",
       "        clearInterval(timer);\n",
       "      }\n",
       "      attempts++;\n",
       "      if (attempts > 100) {\n",
       "        console.log(\"Bokeh: ERROR: Unable to run BokehJS code because BokehJS library is missing\");\n",
       "        clearInterval(timer);\n",
       "      }\n",
       "    }, 10, root)\n",
       "  }\n",
       "})(window);"
      ],
      "application/vnd.bokehjs_exec.v0+json": ""
     },
     "metadata": {
      "application/vnd.bokehjs_exec.v0+json": {
       "id": "1415"
      }
     },
     "output_type": "display_data"
    }
   ],
   "source": [
    "plot_metrics_data(metrics_conv_model_1)"
   ]
  },
  {
   "cell_type": "code",
   "execution_count": 50,
   "metadata": {
    "tags": [
     "skip"
    ]
   },
   "outputs": [],
   "source": [
    "# Save model weights and metrics\n",
    "model_name = 'ph_model_1'\n",
    "now = datetime.now().strftime('%Y%m%d_%H%M%d')\n",
    "torch.save(ph_model_1.state_dict(), f\"./{model_name}_weights_{now}.pkl\")\n",
    "torch.save(ph_model_1, f\"./{model_name}_model_{now}.pkl\")\n",
    "metrics_conv_model_0.to_pickle(f\"./{model_name}_metrics_{now}.pkl\")"
   ]
  },
  {
   "cell_type": "code",
   "execution_count": 51,
   "metadata": {
    "tags": [
     "block:test",
     "prev:conv1:conv2:classifier"
    ]
   },
   "outputs": [],
   "source": [
    "pred_te_0 = ph_model_0(configs_te_0).data.cpu().numpy()\n",
    "pred_te_1 = ph_model_1(configs_te_1).data.cpu().numpy()"
   ]
  },
  {
   "cell_type": "code",
   "execution_count": 52,
   "metadata": {},
   "outputs": [
    {
     "data": {
      "text/plain": [
       "[<matplotlib.lines.Line2D at 0x7f4ae59c2588>]"
      ]
     },
     "execution_count": 52,
     "metadata": {},
     "output_type": "execute_result"
    },
    {
     "data": {
      "image/png": "[encoded data removed]",
      "text/plain": [
       "<Figure size 864x864 with 1 Axes>"
      ]
     },
     "metadata": {
      "needs_background": "light"
     },
     "output_type": "display_data"
    }
   ],
   "source": [
    "plt.figure(figsize=(12,12))\n",
    "plt.scatter(bbch_te_0.data.cpu().numpy() * 25, ((pred_te_0) * 25).astype(int), alpha=0.1)\n",
    "plt.scatter(bbch_te_1.data.cpu().numpy() * (99. - 53.) + 53, ((pred_te_1) * (99. - 53.) + 53).astype(int), alpha=0.1)\n",
    "plt.plot(range(99), range(99), c='black')\n",
    "# plt.xlim(0,1);\n",
    "# plt.ylim(0,1);"
   ]
  },
  {
   "cell_type": "code",
   "execution_count": 53,
   "metadata": {},
   "outputs": [],
   "source": [
    "prediction_b_te = np.round(ph_model_b(Variable(torch.from_numpy(temps_data_te).type(torch.FloatTensor)).to(device)).data.cpu().numpy())"
   ]
  },
  {
   "cell_type": "code",
   "execution_count": 54,
   "metadata": {},
   "outputs": [],
   "source": [
    "bbch_data_te_0 = bbch_data_te[np.argwhere(prediction_b_te == 0).reshape(-1,)]\n",
    "bbch_data_te_0 = bbch_data_te_0 / 25.\n",
    "temps_data_te_0 = temps_data_te[np.argwhere(prediction_b_te == 0).reshape(-1,)]\n",
    "\n",
    "bbch_data_te_1 = bbch_data_te[np.argwhere(prediction_b_te == 1).reshape(-1,)]\n",
    "bbch_data_te_1 = (bbch_data_te_1 - 53) / (99 - 53)\n",
    "temps_data_te_1 = temps_data_te[np.argwhere(prediction_b_te == 1).reshape(-1,)]"
   ]
  },
  {
   "cell_type": "code",
   "execution_count": 55,
   "metadata": {},
   "outputs": [],
   "source": [
    "prediction_0 = ph_model_0(Variable(torch.from_numpy(temps_data_te_0.reshape(-1, 1, DAYS_IN_YEAR)).type(torch.FloatTensor)).to(device)).data.cpu().numpy()\n",
    "prediction_1 = ph_model_1(Variable(torch.from_numpy(temps_data_te_1.reshape(-1, 1, DAYS_IN_YEAR)).type(torch.FloatTensor)).to(device)).data.cpu().numpy()"
   ]
  },
  {
   "cell_type": "code",
   "execution_count": 56,
   "metadata": {},
   "outputs": [
    {
     "data": {
      "image/png": "[encoded data removed]",
      "text/plain": [
       "<Figure size 864x864 with 1 Axes>"
      ]
     },
     "metadata": {
      "needs_background": "light"
     },
     "output_type": "display_data"
    }
   ],
   "source": [
    "plt.figure(figsize=(12,12))\n",
    "#plt.scatter(bbch_pred_old[:,0], bbch_pred_old[:,1], alpha=0.1, c='C0')\n",
    "\n",
    "plt.scatter(bbch_data_te_0 * 25, ((prediction_0) * 25).astype(int), alpha=0.1, c='C1')\n",
    "plt.scatter(bbch_data_te_1 * (99. - 53.) + 53, ((prediction_1) * (99. - 53.) + 53).astype(int), alpha=0.1, c='C1')\n",
    "\n",
    "plt.plot(range(99), range(99), c='black')\n",
    "plt.xlim(0,99)\n",
    "plt.ylim(0,99)"
   ]
  }
 ],
 "metadata": {
  "hide_input": false,
  "kernelspec": {
   "display_name": "Python 3",
   "language": "python",
   "name": "python3"
  },
  "language_info": {
   "codemirror_mode": {
    "name": "ipython",
    "version": 3
   },
   "file_extension": ".py",
   "mimetype": "text/x-python",
   "name": "python",
   "nbconvert_exporter": "python",
   "pygments_lexer": "ipython3",
   "version": "3.7.2"
  },
  "latex_envs": {
   "LaTeX_envs_menu_present": true,
   "autocomplete": true,
   "bibliofile": "biblio.bib",
   "cite_by": "apalike",
   "current_citInitial": 1,
   "eqLabelWithNumbers": true,
   "eqNumInitial": 1,
   "hotkeys": {
    "equation": "Ctrl-E",
    "itemize": "Ctrl-I"
   },
   "labels_anchors": false,
   "latex_user_defs": false,
   "report_style_numbering": false,
   "user_envs_cfg": true
  }
 },
 "nbformat": 4,
 "nbformat_minor": 2
}
