{
 "cells": [
  {
   "cell_type": "markdown",
   "metadata": {},
   "source": [
    "## Simple example based on a numpy pipeline\n",
    "\n",
    "The cells are tagged to produce the following pipeline:\n",
    "\n",
    "**Step 1.** Generate a random 10x10 numpy matrix M  \n",
    "**Step 2.** (Dependent on Step 1) Compute the mean of the elements of matrix M  \n",
    "**Step 3.** (Dependent on Step 1) Compute the sum of the elements of matrix M  \n",
    "\n",
    "The first code cell of this notebook is tagged with the `parameters` tag.  \n",
    "Giving Kale as input both the notebook and a yaml file with a parameter grid will generate a set of parametrized notebook based on the input yaml using Papermill. Each generated notebook will then be converted to a pipeline deployment. This feature is useful for hyperparameter tuning."
   ]
  },
  {
   "cell_type": "code",
   "execution_count": null,
   "metadata": {
    "tags": [
     "parameters"
    ]
   },
   "outputs": [],
   "source": [
    "w = 5\n",
    "h = 7"
   ]
  },
  {
   "cell_type": "code",
   "execution_count": null,
   "metadata": {
    "tags": [
     "imports"
    ]
   },
   "outputs": [],
   "source": [
    "import numpy as np"
   ]
  },
  {
   "cell_type": "code",
   "execution_count": null,
   "metadata": {
    "tags": [
     "block:init"
    ]
   },
   "outputs": [],
   "source": [
    "a = np.random.random((w, h))"
   ]
  },
  {
   "cell_type": "code",
   "execution_count": null,
   "metadata": {
    "tags": [
     "block:mean",
     "prev:init"
    ]
   },
   "outputs": [],
   "source": [
    "c = a.mean()\n",
    "print(c)"
   ]
  },
  {
   "cell_type": "code",
   "execution_count": null,
   "metadata": {
    "tags": [
     "block:sum",
     "prev:init"
    ]
   },
   "outputs": [],
   "source": [
    "b = a.sum()\n",
    "print(b)"
   ]
  }
 ],
 "metadata": {
  "kernelspec": {
   "display_name": "Python 3",
   "language": "python",
   "name": "python3"
  },
  "language_info": {
   "codemirror_mode": {
    "name": "ipython",
    "version": 3
   },
   "file_extension": ".py",
   "mimetype": "text/x-python",
   "name": "python",
   "nbconvert_exporter": "python",
   "pygments_lexer": "ipython3",
   "version": "3.7.2"
  }
 },
 "nbformat": 4,
 "nbformat_minor": 2
}
