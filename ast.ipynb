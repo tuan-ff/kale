{
 "cells": [
  {
   "cell_type": "code",
   "execution_count": 2,
   "metadata": {},
   "outputs": [],
   "source": [
    "import ast\n",
    "\n",
    "import nbformat as nb"
   ]
  },
  {
   "cell_type": "code",
   "execution_count": 35,
   "metadata": {},
   "outputs": [],
   "source": [
    "source = nb.read(\"./base_notebooks/modello_enophit_new.ipynb\", as_version=4)"
   ]
  },
  {
   "cell_type": "code",
   "execution_count": 44,
   "metadata": {},
   "outputs": [],
   "source": [
    "complete_code = \"\"\n",
    "\n",
    "for c in source.cells:\n",
    "    # parse only source code cells\n",
    "    if c.cell_type != \"code\":\n",
    "        continue\n",
    "    if 'tags' in c.metadata and \"skip\" in c.metadata['tags']:\n",
    "        continue\n",
    "\n",
    "    complete_code += c.source + \"\\n\""
   ]
  },
  {
   "cell_type": "code",
   "execution_count": null,
   "metadata": {},
   "outputs": [],
   "source": [
    "print(complete_code)"
   ]
  },
  {
   "cell_type": "code",
   "execution_count": 46,
   "metadata": {},
   "outputs": [],
   "source": [
    "tree = ast.parse(complete_code)"
   ]
  },
  {
   "cell_type": "code",
   "execution_count": 78,
   "metadata": {},
   "outputs": [],
   "source": [
    "tree.body\n",
    "body_iter = enumerate(iter(tree.body))"
   ]
  },
  {
   "cell_type": "code",
   "execution_count": 122,
   "metadata": {},
   "outputs": [
    {
     "name": "stdout",
     "output_type": "stream",
     "text": [
      "25 Assign(targets=[Name(id='chardonnay_ix', ctx=Store())], value=Attribute(value=Attribute(value=Subscript(value=Name(id='chardonnay', ctx=Load()), slice=Index(value=Compare(left=Name(id='chardonnay', ctx=Load()), ops=[Gt()], comparators=[Num(n=0)])), ctx=Load()), attr='index', ctx=Load()), attr='values', ctx=Load()))\n"
     ]
    }
   ],
   "source": [
    "i, v = body_iter.__next__()\n",
    "print(f\"{i} {ast.dump(v)}\")"
   ]
  },
  {
   "cell_type": "code",
   "execution_count": 109,
   "metadata": {},
   "outputs": [
    {
     "data": {
      "text/plain": [
       "<_ast.Call at 0x102b95438>"
      ]
     },
     "execution_count": 109,
     "metadata": {},
     "output_type": "execute_result"
    }
   ],
   "source": [
    "tree.body[17].walk"
   ]
  },
  {
   "cell_type": "code",
   "execution_count": 123,
   "metadata": {},
   "outputs": [
    {
     "name": "stdout",
     "output_type": "stream",
     "text": [
      "Assign(targets=[Name(id='chardonnay_ix', ctx=Store())], value=Attribute(value=Attribute(value=Subscript(value=Name(id='chardonnay', ctx=Load()), slice=Index(value=Compare(left=Name(id='chardonnay', ctx=Load()), ops=[Gt()], comparators=[Num(n=0)])), ctx=Load()), attr='index', ctx=Load()), attr='values', ctx=Load()))\n",
      "Name(id='chardonnay_ix', ctx=Store())\n",
      "Attribute(value=Attribute(value=Subscript(value=Name(id='chardonnay', ctx=Load()), slice=Index(value=Compare(left=Name(id='chardonnay', ctx=Load()), ops=[Gt()], comparators=[Num(n=0)])), ctx=Load()), attr='index', ctx=Load()), attr='values', ctx=Load())\n",
      "Store()\n",
      "Attribute(value=Subscript(value=Name(id='chardonnay', ctx=Load()), slice=Index(value=Compare(left=Name(id='chardonnay', ctx=Load()), ops=[Gt()], comparators=[Num(n=0)])), ctx=Load()), attr='index', ctx=Load())\n",
      "Load()\n",
      "Subscript(value=Name(id='chardonnay', ctx=Load()), slice=Index(value=Compare(left=Name(id='chardonnay', ctx=Load()), ops=[Gt()], comparators=[Num(n=0)])), ctx=Load())\n",
      "Load()\n",
      "Name(id='chardonnay', ctx=Load())\n",
      "Index(value=Compare(left=Name(id='chardonnay', ctx=Load()), ops=[Gt()], comparators=[Num(n=0)]))\n",
      "Load()\n",
      "Load()\n",
      "Compare(left=Name(id='chardonnay', ctx=Load()), ops=[Gt()], comparators=[Num(n=0)])\n",
      "Name(id='chardonnay', ctx=Load())\n",
      "Gt()\n",
      "Num(n=0)\n",
      "Load()\n"
     ]
    }
   ],
   "source": [
    "for n in ast.walk(tree.body[25]):\n",
    "    print(ast.dump(n))"
   ]
  },
  {
   "cell_type": "code",
   "execution_count": 34,
   "metadata": {},
   "outputs": [
    {
     "name": "stdout",
     "output_type": "stream",
     "text": [
      "['path']\n",
      "['a']\n",
      "['b']\n"
     ]
    }
   ],
   "source": [
    "# get the list of variable that are assigned a value\n",
    "# skip_nodes = [ast.]\n",
    "for node in tree.body:\n",
    "    assigned = None\n",
    "    # a variable assignment\n",
    "    if isinstance(node, ast.Assign):\n",
    "        assigned = [n.id for n in node.targets]\n",
    "    if isinstance(node, ast.AnnAssign):\n",
    "        raise NotImplementedError\n",
    "    if isinstance(node, ast.AugAssign):\n",
    "        # es.: a += 1\n",
    "        assigned = [node.target.id]\n",
    "    if assigned:\n",
    "        print(assigned)"
   ]
  },
  {
   "cell_type": "code",
   "execution_count": null,
   "metadata": {},
   "outputs": [],
   "source": []
  }
 ],
 "metadata": {
  "kernelspec": {
   "display_name": "Python 3",
   "language": "python",
   "name": "python3"
  },
  "language_info": {
   "codemirror_mode": {
    "name": "ipython",
    "version": 3
   },
   "file_extension": ".py",
   "mimetype": "text/x-python",
   "name": "python",
   "nbconvert_exporter": "python",
   "pygments_lexer": "ipython3",
   "version": "3.6.5"
  }
 },
 "nbformat": 4,
 "nbformat_minor": 2
}
